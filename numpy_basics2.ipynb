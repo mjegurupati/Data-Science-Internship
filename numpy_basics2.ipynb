{
  "nbformat": 4,
  "nbformat_minor": 0,
  "metadata": {
    "colab": {
      "provenance": []
    },
    "kernelspec": {
      "name": "python3",
      "display_name": "Python 3"
    }
  },
  "cells": [
    {
      "cell_type": "code",
      "metadata": {
        "id": "GQjYwDcsoiOc",
        "colab": {
          "base_uri": "https://localhost:8080/",
          "height": 34
        },
        "outputId": "0ce67b28-72eb-4915-b36a-7264e1b49de9"
      },
      "source": [
        "ls"
      ],
      "execution_count": null,
      "outputs": [
        {
          "output_type": "stream",
          "text": [
            "\u001b[0m\u001b[01;34m'My Drive'\u001b[0m/\n"
          ],
          "name": "stdout"
        }
      ]
    },
    {
      "cell_type": "code",
      "metadata": {
        "id": "D_YAlAMbo1Ox",
        "colab": {
          "base_uri": "https://localhost:8080/",
          "height": 122
        },
        "outputId": "b05dd395-0d70-4481-acd8-588d8214c1c7"
      },
      "source": [
        "from google.colab import drive\n",
        "drive.mount(\"AIML\")"
      ],
      "execution_count": null,
      "outputs": [
        {
          "output_type": "stream",
          "text": [
            "Go to this URL in a browser: https://accounts.google.com/o/oauth2/auth?client_id=947318989803-6bn6qk8qdgf4n4g3pfee6491hc0brc4i.apps.googleusercontent.com&redirect_uri=urn%3aietf%3awg%3aoauth%3a2.0%3aoob&response_type=code&scope=email%20https%3a%2f%2fwww.googleapis.com%2fauth%2fdocs.test%20https%3a%2f%2fwww.googleapis.com%2fauth%2fdrive%20https%3a%2f%2fwww.googleapis.com%2fauth%2fdrive.photos.readonly%20https%3a%2f%2fwww.googleapis.com%2fauth%2fpeopleapi.readonly\n",
            "\n",
            "Enter your authorization code:\n",
            "··········\n",
            "Mounted at AIML\n"
          ],
          "name": "stdout"
        }
      ]
    },
    {
      "cell_type": "code",
      "metadata": {
        "id": "g9JeDhkUpDLK",
        "colab": {
          "base_uri": "https://localhost:8080/",
          "height": 34
        },
        "outputId": "070fc278-6219-4bb2-f3f4-301ba6836114"
      },
      "source": [
        "%cd /content/AIML"
      ],
      "execution_count": null,
      "outputs": [
        {
          "output_type": "stream",
          "text": [
            "/content/AIML\n"
          ],
          "name": "stdout"
        }
      ]
    },
    {
      "cell_type": "markdown",
      "metadata": {
        "id": "Y0nqet3hjMEG"
      },
      "source": [
        "#Numpy programs"
      ]
    },
    {
      "cell_type": "code",
      "metadata": {
        "id": "jPRWEz_YpLMs"
      },
      "source": [
        "import numpy as np\n",
        "a = np.array([1,2,3])\n",
        "b = np.array([(1.5,2,3), (4,5,6)], dtype = float)\n",
        "c = np.array([[(1.5,2,3), (4,5,6)], [(3,2,1), (4,5,6)]],\n",
        "dtype = float)"
      ],
      "execution_count": null,
      "outputs": []
    },
    {
      "cell_type": "code",
      "metadata": {
        "id": "RylR3m99prJT",
        "colab": {
          "base_uri": "https://localhost:8080/",
          "height": 34
        },
        "outputId": "a7817fe0-37fe-4cb4-f5db-e1422aad0727"
      },
      "source": [
        "c.shape"
      ],
      "execution_count": null,
      "outputs": [
        {
          "output_type": "execute_result",
          "data": {
            "text/plain": [
              "(2, 2, 3)"
            ]
          },
          "metadata": {
            "tags": []
          },
          "execution_count": 8
        }
      ]
    },
    {
      "cell_type": "code",
      "metadata": {
        "id": "ZweZi4rapuf5",
        "colab": {
          "base_uri": "https://localhost:8080/",
          "height": 34
        },
        "outputId": "c7cb154c-cda0-4f63-9fb7-659fcade5166"
      },
      "source": [
        "c.size"
      ],
      "execution_count": null,
      "outputs": [
        {
          "output_type": "execute_result",
          "data": {
            "text/plain": [
              "12"
            ]
          },
          "metadata": {
            "tags": []
          },
          "execution_count": 9
        }
      ]
    },
    {
      "cell_type": "code",
      "metadata": {
        "id": "K0mOfkHspwsp",
        "colab": {
          "base_uri": "https://localhost:8080/",
          "height": 68
        },
        "outputId": "460585b9-df68-4008-b8fa-be05d35af566"
      },
      "source": [
        " i = np.transpose(b) #Permute array dimensions\n",
        " i"
      ],
      "execution_count": null,
      "outputs": [
        {
          "output_type": "execute_result",
          "data": {
            "text/plain": [
              "array([[1.5, 4. ],\n",
              "       [2. , 5. ],\n",
              "       [3. , 6. ]])"
            ]
          },
          "metadata": {
            "tags": []
          },
          "execution_count": 10
        }
      ]
    },
    {
      "cell_type": "code",
      "metadata": {
        "id": "3cVSANGQs8Xs",
        "colab": {
          "base_uri": "https://localhost:8080/",
          "height": 34
        },
        "outputId": "1af9a35b-c107-46c5-b12b-6c976a2b37d1"
      },
      "source": [
        "temp=np.array([1,2,3])\n",
        "temp#if this is used before print statement the o/p is printed only once\n",
        "print(temp)"
      ],
      "execution_count": null,
      "outputs": [
        {
          "output_type": "stream",
          "text": [
            "[1 2 3]\n"
          ],
          "name": "stdout"
        }
      ]
    },
    {
      "cell_type": "code",
      "metadata": {
        "id": "TGuOlPY5tw2T",
        "colab": {
          "base_uri": "https://localhost:8080/",
          "height": 51
        },
        "outputId": "4f8a0e75-8a4a-4ee6-f8db-4750b455c589"
      },
      "source": [
        "temp=np.array([1,2,3])\n",
        "temp#if this is used before print statement the o/p is printed only once\n",
        "print(temp)\n",
        "temp#this gives output"
      ],
      "execution_count": null,
      "outputs": [
        {
          "output_type": "stream",
          "text": [
            "[1 2 3]\n"
          ],
          "name": "stdout"
        },
        {
          "output_type": "execute_result",
          "data": {
            "text/plain": [
              "array([1, 2, 3])"
            ]
          },
          "metadata": {
            "tags": []
          },
          "execution_count": 12
        }
      ]
    },
    {
      "cell_type": "code",
      "metadata": {
        "id": "u_FZYFHBvgDK",
        "colab": {
          "base_uri": "https://localhost:8080/",
          "height": 34
        },
        "outputId": "af8e4bd6-a28e-43ff-9ed0-aa53fc7006ca"
      },
      "source": [
        "tmp2=([[1,2],[3,4]])\n",
        "tmp2"
      ],
      "execution_count": null,
      "outputs": [
        {
          "output_type": "execute_result",
          "data": {
            "text/plain": [
              "[[1, 2], [3, 4]]"
            ]
          },
          "metadata": {
            "tags": []
          },
          "execution_count": 13
        }
      ]
    },
    {
      "cell_type": "code",
      "metadata": {
        "id": "Ut1OpsWxvtZl",
        "colab": {
          "base_uri": "https://localhost:8080/",
          "height": 51
        },
        "outputId": "e7c0e12a-12b6-42ac-e187-6cc82edd37fb"
      },
      "source": [
        "tmp3=np.array([[5,6,7],[7,8,9]])\n",
        "tmp3"
      ],
      "execution_count": null,
      "outputs": [
        {
          "output_type": "execute_result",
          "data": {
            "text/plain": [
              "array([[5, 6, 7],\n",
              "       [7, 8, 9]])"
            ]
          },
          "metadata": {
            "tags": []
          },
          "execution_count": 14
        }
      ]
    },
    {
      "cell_type": "code",
      "metadata": {
        "id": "PBTdU41cv3Zn",
        "colab": {
          "base_uri": "https://localhost:8080/",
          "height": 85
        },
        "outputId": "b5077d87-f0a8-44c0-c6d8-a56bb696c110"
      },
      "source": [
        "tmp4=np.array([[6,7,8],[5,4,3],[9,0,8],[7,6,5]])\n",
        "tmp4"
      ],
      "execution_count": null,
      "outputs": [
        {
          "output_type": "execute_result",
          "data": {
            "text/plain": [
              "array([[6, 7, 8],\n",
              "       [5, 4, 3],\n",
              "       [9, 0, 8],\n",
              "       [7, 6, 5]])"
            ]
          },
          "metadata": {
            "tags": []
          },
          "execution_count": 14
        }
      ]
    },
    {
      "cell_type": "markdown",
      "metadata": {
        "id": "FvOq2ZYylm6z"
      },
      "source": [
        "#Sumofnumbers"
      ]
    },
    {
      "cell_type": "code",
      "metadata": {
        "id": "-ZgcrYoJwPY9",
        "colab": {
          "base_uri": "https://localhost:8080/",
          "height": 34
        },
        "outputId": "877c198a-83ad-404f-cd16-f22375815731"
      },
      "source": [
        "def getsum(x=10,y=9):\n",
        "  return x+y\n",
        "getsum(9,8)"
      ],
      "execution_count": null,
      "outputs": [
        {
          "output_type": "execute_result",
          "data": {
            "text/plain": [
              "17"
            ]
          },
          "metadata": {
            "tags": []
          },
          "execution_count": 15
        }
      ]
    },
    {
      "cell_type": "code",
      "metadata": {
        "id": "YuX5_e5Jw01D",
        "colab": {
          "base_uri": "https://localhost:8080/",
          "height": 34
        },
        "outputId": "7ff7d1b0-5a96-4b12-850a-e39abb8dd69f"
      },
      "source": [
        "getsum()"
      ],
      "execution_count": null,
      "outputs": [
        {
          "output_type": "execute_result",
          "data": {
            "text/plain": [
              "19"
            ]
          },
          "metadata": {
            "tags": []
          },
          "execution_count": 16
        }
      ]
    },
    {
      "cell_type": "code",
      "metadata": {
        "id": "ryPfDJLow3dT",
        "colab": {
          "base_uri": "https://localhost:8080/",
          "height": 34
        },
        "outputId": "745d96d3-fe0b-490a-ccd1-8bd04fa522cd"
      },
      "source": [
        "getsum(0)"
      ],
      "execution_count": null,
      "outputs": [
        {
          "output_type": "execute_result",
          "data": {
            "text/plain": [
              "9"
            ]
          },
          "metadata": {
            "tags": []
          },
          "execution_count": 17
        }
      ]
    },
    {
      "cell_type": "code",
      "metadata": {
        "id": "hTSfGDgdw6rL",
        "colab": {
          "base_uri": "https://localhost:8080/",
          "height": 85
        },
        "outputId": "1ba33d44-15c0-46ec-824c-5083932241da"
      },
      "source": [
        "l3=[9,8,7]\n",
        "l4=[8,7,6]\n",
        "tmp4=np.array([[9,8,7],[8,7,6],l3,l4])\n",
        "tmp4"
      ],
      "execution_count": null,
      "outputs": [
        {
          "output_type": "execute_result",
          "data": {
            "text/plain": [
              "array([[9, 8, 7],\n",
              "       [8, 7, 6],\n",
              "       [9, 8, 7],\n",
              "       [8, 7, 6]])"
            ]
          },
          "metadata": {
            "tags": []
          },
          "execution_count": 18
        }
      ]
    },
    {
      "cell_type": "code",
      "metadata": {
        "id": "aYi-D4vsxOzK",
        "colab": {
          "base_uri": "https://localhost:8080/",
          "height": 34
        },
        "outputId": "16ba7fbc-7dd6-4bc3-cc1d-bc589f4d02ef"
      },
      "source": [
        "tmp4.shape"
      ],
      "execution_count": null,
      "outputs": [
        {
          "output_type": "execute_result",
          "data": {
            "text/plain": [
              "(4, 3)"
            ]
          },
          "metadata": {
            "tags": []
          },
          "execution_count": 19
        }
      ]
    },
    {
      "cell_type": "code",
      "metadata": {
        "id": "r8p-_PxUxaYh",
        "colab": {
          "base_uri": "https://localhost:8080/",
          "height": 34
        },
        "outputId": "69badf89-d944-40ef-da2f-2bff8ef9836a"
      },
      "source": [
        "tmp4.size#this gives how many elements in array"
      ],
      "execution_count": null,
      "outputs": [
        {
          "output_type": "execute_result",
          "data": {
            "text/plain": [
              "12"
            ]
          },
          "metadata": {
            "tags": []
          },
          "execution_count": 20
        }
      ]
    },
    {
      "cell_type": "code",
      "metadata": {
        "id": "3K_ydtxkxegT",
        "colab": {
          "base_uri": "https://localhost:8080/",
          "height": 34
        },
        "outputId": "342cb269-233c-4ea3-fde2-c9aad79b1efe"
      },
      "source": [
        "import numpy as np\n",
        "l3=[9,8,7]\n",
        "l4=[8,7,6]\n",
        "tmp4=np.array([[9,8,7],[8,7,6],l3,l4])\n",
        "tmp5=np.transpose(tmp4)\n",
        "tmp5\n",
        "temp6=tmp5\n",
        "temp6[2][1]"
      ],
      "execution_count": null,
      "outputs": [
        {
          "output_type": "execute_result",
          "data": {
            "text/plain": [
              "6"
            ]
          },
          "metadata": {
            "tags": []
          },
          "execution_count": 21
        }
      ]
    },
    {
      "cell_type": "code",
      "metadata": {
        "id": "fj6tB7u2zU_Z",
        "colab": {
          "base_uri": "https://localhost:8080/",
          "height": 68
        },
        "outputId": "4c3fb75d-6b97-4694-b35d-1491e90a8685"
      },
      "source": [
        " import numpy as np\n",
        " np.zeros((3,4))"
      ],
      "execution_count": null,
      "outputs": [
        {
          "output_type": "execute_result",
          "data": {
            "text/plain": [
              "array([[0., 0., 0., 0.],\n",
              "       [0., 0., 0., 0.],\n",
              "       [0., 0., 0., 0.]])"
            ]
          },
          "metadata": {
            "tags": []
          },
          "execution_count": 22
        }
      ]
    },
    {
      "cell_type": "code",
      "metadata": {
        "id": "PYkv7Ik70Rt8",
        "colab": {
          "base_uri": "https://localhost:8080/",
          "height": 136
        },
        "outputId": "e74277fd-78cf-4a30-8407-a7dd1bbcd6ae"
      },
      "source": [
        "import numpy as np\n",
        "np.ones((2,3,4),dtype=np.int16)"
      ],
      "execution_count": null,
      "outputs": [
        {
          "output_type": "execute_result",
          "data": {
            "text/plain": [
              "array([[[1, 1, 1, 1],\n",
              "        [1, 1, 1, 1],\n",
              "        [1, 1, 1, 1]],\n",
              "\n",
              "       [[1, 1, 1, 1],\n",
              "        [1, 1, 1, 1],\n",
              "        [1, 1, 1, 1]]], dtype=int16)"
            ]
          },
          "metadata": {
            "tags": []
          },
          "execution_count": 23
        }
      ]
    },
    {
      "cell_type": "code",
      "metadata": {
        "id": "1uf8Eoim1TLj",
        "colab": {
          "base_uri": "https://localhost:8080/",
          "height": 34
        },
        "outputId": "6224500a-09df-46d5-e4d4-a9a732855a4f"
      },
      "source": [
        " import numpy as np\n",
        " d = np.arange(10,25,5)\n",
        " print(d)"
      ],
      "execution_count": null,
      "outputs": [
        {
          "output_type": "stream",
          "text": [
            "[10 15 20]\n"
          ],
          "name": "stdout"
        }
      ]
    },
    {
      "cell_type": "code",
      "metadata": {
        "id": "mHQa6OM52TcC",
        "colab": {
          "base_uri": "https://localhost:8080/",
          "height": 51
        },
        "outputId": "feeaad00-9898-41ee-b7f8-e4b41cbf9865"
      },
      "source": [
        "import numpy as np\n",
        "np.random.random((2,2))"
      ],
      "execution_count": null,
      "outputs": [
        {
          "output_type": "execute_result",
          "data": {
            "text/plain": [
              "array([[0.79678289, 0.77433507],\n",
              "       [0.20047179, 0.53977021]])"
            ]
          },
          "metadata": {
            "tags": []
          },
          "execution_count": 25
        }
      ]
    },
    {
      "cell_type": "code",
      "metadata": {
        "id": "4x_KaTf9Eybv",
        "colab": {
          "base_uri": "https://localhost:8080/",
          "height": 85
        },
        "outputId": "582a72ca-3dac-43cd-9658-5ba60373fea4"
      },
      "source": [
        "tmp4.sort() #Sort an array\n",
        "tmp4.sort(axis=0)\n",
        "tmp4"
      ],
      "execution_count": null,
      "outputs": [
        {
          "output_type": "execute_result",
          "data": {
            "text/plain": [
              "array([[6, 7, 8],\n",
              "       [6, 7, 8],\n",
              "       [7, 8, 9],\n",
              "       [7, 8, 9]])"
            ]
          },
          "metadata": {
            "tags": []
          },
          "execution_count": 27
        }
      ]
    },
    {
      "cell_type": "code",
      "metadata": {
        "id": "NwTMrIVJnAY-"
      },
      "source": [
        "import numpy as np\n",
        "a = np.array([1,2,3])\n",
        "b = np.array([(1.5,2,3), (4,5,6)], dtype = float)\n",
        "c = np.array([[(1.5,2,3), (4,5,6)], [(3,2,1), (4,5,6)]],\n",
        "dtype = float)"
      ],
      "execution_count": null,
      "outputs": []
    },
    {
      "cell_type": "markdown",
      "metadata": {
        "id": "iIF-SMBJnwOH"
      },
      "source": [
        "#Comparision"
      ]
    },
    {
      "cell_type": "code",
      "metadata": {
        "id": "Df0XldGsnZFs",
        "colab": {
          "base_uri": "https://localhost:8080/",
          "height": 51
        },
        "outputId": "d08152e0-f851-47ce-b543-562486423744"
      },
      "source": [
        "a==b"
      ],
      "execution_count": null,
      "outputs": [
        {
          "output_type": "execute_result",
          "data": {
            "text/plain": [
              "array([[False,  True,  True],\n",
              "       [False, False, False]])"
            ]
          },
          "metadata": {
            "tags": []
          },
          "execution_count": 29
        }
      ]
    },
    {
      "cell_type": "code",
      "metadata": {
        "id": "UXbies3-ndBL",
        "colab": {
          "base_uri": "https://localhost:8080/",
          "height": 34
        },
        "outputId": "4baa69c9-90a6-475e-9422-609541b14581"
      },
      "source": [
        "a<2"
      ],
      "execution_count": null,
      "outputs": [
        {
          "output_type": "execute_result",
          "data": {
            "text/plain": [
              "array([ True, False, False])"
            ]
          },
          "metadata": {
            "tags": []
          },
          "execution_count": 30
        }
      ]
    },
    {
      "cell_type": "code",
      "metadata": {
        "id": "I8_MTnVvnuma",
        "colab": {
          "base_uri": "https://localhost:8080/",
          "height": 34
        },
        "outputId": "b9daa788-696d-483f-d8f5-5aafe4fbd003"
      },
      "source": [
        "np.array_equal(a, b)"
      ],
      "execution_count": null,
      "outputs": [
        {
          "output_type": "execute_result",
          "data": {
            "text/plain": [
              "False"
            ]
          },
          "metadata": {
            "tags": []
          },
          "execution_count": 31
        }
      ]
    },
    {
      "cell_type": "markdown",
      "metadata": {
        "id": "C1l_juLtoGBV"
      },
      "source": [
        "#Aggregate functions"
      ]
    },
    {
      "cell_type": "code",
      "metadata": {
        "id": "kxfs5IMtn89J",
        "colab": {
          "base_uri": "https://localhost:8080/",
          "height": 34
        },
        "outputId": "7dc8dae7-75ec-4fbe-8eae-a5e9e353d03e"
      },
      "source": [
        "a.sum()"
      ],
      "execution_count": null,
      "outputs": [
        {
          "output_type": "execute_result",
          "data": {
            "text/plain": [
              "6"
            ]
          },
          "metadata": {
            "tags": []
          },
          "execution_count": 33
        }
      ]
    },
    {
      "cell_type": "code",
      "metadata": {
        "id": "Vo7UZqrloPnq",
        "colab": {
          "base_uri": "https://localhost:8080/",
          "height": 34
        },
        "outputId": "312bdbd9-e648-43ee-8ba3-b903e692368f"
      },
      "source": [
        "b.sum()"
      ],
      "execution_count": null,
      "outputs": [
        {
          "output_type": "execute_result",
          "data": {
            "text/plain": [
              "21.5"
            ]
          },
          "metadata": {
            "tags": []
          },
          "execution_count": 34
        }
      ]
    },
    {
      "cell_type": "code",
      "metadata": {
        "id": "Fd981bhooWR5",
        "colab": {
          "base_uri": "https://localhost:8080/",
          "height": 34
        },
        "outputId": "0de9b9fd-a2c6-4ee9-f519-f7140c90b985"
      },
      "source": [
        "a.min()"
      ],
      "execution_count": null,
      "outputs": [
        {
          "output_type": "execute_result",
          "data": {
            "text/plain": [
              "1"
            ]
          },
          "metadata": {
            "tags": []
          },
          "execution_count": 35
        }
      ]
    },
    {
      "cell_type": "code",
      "metadata": {
        "id": "kuAnzIa6ojaJ",
        "colab": {
          "base_uri": "https://localhost:8080/",
          "height": 34
        },
        "outputId": "cd6ded85-d32d-47f9-c7d4-dff268c3b72f"
      },
      "source": [
        "b.max(axis=0)"
      ],
      "execution_count": null,
      "outputs": [
        {
          "output_type": "execute_result",
          "data": {
            "text/plain": [
              "array([4., 5., 6.])"
            ]
          },
          "metadata": {
            "tags": []
          },
          "execution_count": 36
        }
      ]
    },
    {
      "cell_type": "code",
      "metadata": {
        "id": "X7tm8pyxomNL",
        "colab": {
          "base_uri": "https://localhost:8080/",
          "height": 34
        },
        "outputId": "26787964-ec44-4441-a440-06da574122ae"
      },
      "source": [
        "a.mean()"
      ],
      "execution_count": null,
      "outputs": [
        {
          "output_type": "execute_result",
          "data": {
            "text/plain": [
              "2.0"
            ]
          },
          "metadata": {
            "tags": []
          },
          "execution_count": 37
        }
      ]
    },
    {
      "cell_type": "code",
      "metadata": {
        "id": "3BZC4YoypKqq"
      },
      "source": [
        "h = a.view() #Create a view of the array with the same data\n",
        "np.copy(a) #Create a copy of the array\n",
        "h = a.copy()"
      ],
      "execution_count": null,
      "outputs": []
    },
    {
      "cell_type": "code",
      "metadata": {
        "id": "tyPGO4i5pbmY",
        "colab": {
          "base_uri": "https://localhost:8080/",
          "height": 34
        },
        "outputId": "7dfdd2d0-a580-4636-f465-2839e30bd547"
      },
      "source": [
        "h"
      ],
      "execution_count": null,
      "outputs": [
        {
          "output_type": "execute_result",
          "data": {
            "text/plain": [
              "array([1, 2, 3])"
            ]
          },
          "metadata": {
            "tags": []
          },
          "execution_count": 43
        }
      ]
    },
    {
      "cell_type": "markdown",
      "metadata": {
        "id": "Bnm_56iGrJtS"
      },
      "source": [
        "#subsetting and slicing"
      ]
    },
    {
      "cell_type": "code",
      "metadata": {
        "id": "IIB4V2Ugpcm7",
        "colab": {
          "base_uri": "https://localhost:8080/",
          "height": 34
        },
        "outputId": "afc36fea-e74e-4a2f-aba6-8923c3d745f9"
      },
      "source": [
        "a[2]"
      ],
      "execution_count": null,
      "outputs": [
        {
          "output_type": "execute_result",
          "data": {
            "text/plain": [
              "3"
            ]
          },
          "metadata": {
            "tags": []
          },
          "execution_count": 44
        }
      ]
    },
    {
      "cell_type": "code",
      "metadata": {
        "id": "QKR1P9F4rPFo",
        "colab": {
          "base_uri": "https://localhost:8080/",
          "height": 34
        },
        "outputId": "03774f82-0806-4160-8c93-f1a22dfdb09b"
      },
      "source": [
        "b[1,2]"
      ],
      "execution_count": null,
      "outputs": [
        {
          "output_type": "execute_result",
          "data": {
            "text/plain": [
              "6.0"
            ]
          },
          "metadata": {
            "tags": []
          },
          "execution_count": 45
        }
      ]
    },
    {
      "cell_type": "code",
      "metadata": {
        "id": "5VOaIFXwrSk0",
        "colab": {
          "base_uri": "https://localhost:8080/",
          "height": 51
        },
        "outputId": "9f1d9b6a-3807-4a50-f4ea-aeddad74d068"
      },
      "source": [
        "c[1,...]"
      ],
      "execution_count": null,
      "outputs": [
        {
          "output_type": "execute_result",
          "data": {
            "text/plain": [
              "array([[3., 2., 1.],\n",
              "       [4., 5., 6.]])"
            ]
          },
          "metadata": {
            "tags": []
          },
          "execution_count": 46
        }
      ]
    },
    {
      "cell_type": "code",
      "metadata": {
        "id": "ghF5pQyxrvzU",
        "colab": {
          "base_uri": "https://localhost:8080/",
          "height": 34
        },
        "outputId": "fcae5839-e09a-4510-c51d-5a4eac8e0b68"
      },
      "source": [
        "a[ : :-1] #Reversed array a array([3, 2, 1])"
      ],
      "execution_count": null,
      "outputs": [
        {
          "output_type": "execute_result",
          "data": {
            "text/plain": [
              "array([3, 2, 1])"
            ]
          },
          "metadata": {
            "tags": []
          },
          "execution_count": 47
        }
      ]
    },
    {
      "cell_type": "code",
      "metadata": {
        "id": "K0Eb1XxCr7oz",
        "colab": {
          "base_uri": "https://localhost:8080/",
          "height": 34
        },
        "outputId": "abef13c6-859b-4886-d5d4-4a534fe24ac0"
      },
      "source": [
        "a[a<2]"
      ],
      "execution_count": null,
      "outputs": [
        {
          "output_type": "execute_result",
          "data": {
            "text/plain": [
              "array([1])"
            ]
          },
          "metadata": {
            "tags": []
          },
          "execution_count": 48
        }
      ]
    },
    {
      "cell_type": "code",
      "metadata": {
        "id": "XBWwD-qPsCNT",
        "colab": {
          "base_uri": "https://localhost:8080/",
          "height": 34
        },
        "outputId": "54aadb7a-620d-427d-f622-52ba3e4b3ce8"
      },
      "source": [
        "#Changing Array Shape\n",
        "b.ravel() #Flatten the array"
      ],
      "execution_count": null,
      "outputs": [
        {
          "output_type": "execute_result",
          "data": {
            "text/plain": [
              "array([1.5, 2. , 3. , 4. , 5. , 6. ])"
            ]
          },
          "metadata": {
            "tags": []
          },
          "execution_count": 50
        }
      ]
    },
    {
      "cell_type": "code",
      "metadata": {
        "id": "NFwrS8FysS5i",
        "colab": {
          "base_uri": "https://localhost:8080/",
          "height": 34
        },
        "outputId": "988a1338-c652-4774-8932-7372020b719f"
      },
      "source": [
        "#Fancy Indexing\n",
        "b[[1, 0, 1, 0],[0, 1, 2, 0]]"
      ],
      "execution_count": null,
      "outputs": [
        {
          "output_type": "execute_result",
          "data": {
            "text/plain": [
              "array([4. , 2. , 6. , 1.5])"
            ]
          },
          "metadata": {
            "tags": []
          },
          "execution_count": 51
        }
      ]
    },
    {
      "cell_type": "code",
      "metadata": {
        "id": "m3mpNigVtR6n",
        "colab": {
          "base_uri": "https://localhost:8080/",
          "height": 85
        },
        "outputId": "a3326874-5972-4e70-e6a9-42fd75ff085f"
      },
      "source": [
        "b[[1, 0, 1, 0]][:,[0,1,2,0]] #Select a subset of the matrix’s rows\n"
      ],
      "execution_count": null,
      "outputs": [
        {
          "output_type": "execute_result",
          "data": {
            "text/plain": [
              "array([[4. , 5. , 6. , 4. ],\n",
              "       [1.5, 2. , 3. , 1.5],\n",
              "       [4. , 5. , 6. , 4. ],\n",
              "       [1.5, 2. , 3. , 1.5]])"
            ]
          },
          "metadata": {
            "tags": []
          },
          "execution_count": 53
        }
      ]
    },
    {
      "cell_type": "markdown",
      "metadata": {
        "id": "iKICW9N0uJuZ"
      },
      "source": [
        "#Concatenating"
      ]
    },
    {
      "cell_type": "code",
      "metadata": {
        "id": "J3FUi3cHtbLg",
        "colab": {
          "base_uri": "https://localhost:8080/",
          "height": 34
        },
        "outputId": "5c21d861-2847-492f-ffb1-38bc444b3bcf"
      },
      "source": [
        "np.concatenate((a,d),axis=0)"
      ],
      "execution_count": null,
      "outputs": [
        {
          "output_type": "execute_result",
          "data": {
            "text/plain": [
              "array([ 1,  2,  3, 10, 15, 20])"
            ]
          },
          "metadata": {
            "tags": []
          },
          "execution_count": 54
        }
      ]
    },
    {
      "cell_type": "code",
      "metadata": {
        "id": "gOFrk2RTuIiu",
        "colab": {
          "base_uri": "https://localhost:8080/",
          "height": 68
        },
        "outputId": "5bec63a6-523a-4a18-a959-9284eef6d9bd"
      },
      "source": [
        "np.vstack((a,b))"
      ],
      "execution_count": null,
      "outputs": [
        {
          "output_type": "execute_result",
          "data": {
            "text/plain": [
              "array([[1. , 2. , 3. ],\n",
              "       [1.5, 2. , 3. ],\n",
              "       [4. , 5. , 6. ]])"
            ]
          },
          "metadata": {
            "tags": []
          },
          "execution_count": 55
        }
      ]
    },
    {
      "cell_type": "code",
      "metadata": {
        "id": "Iy-FhaxduYGK",
        "colab": {
          "base_uri": "https://localhost:8080/",
          "height": 68
        },
        "outputId": "584fca90-8b5a-43dd-bc2c-2aca4bff49da"
      },
      "source": [
        "np.column_stack((a,d))"
      ],
      "execution_count": null,
      "outputs": [
        {
          "output_type": "execute_result",
          "data": {
            "text/plain": [
              "array([[ 1, 10],\n",
              "       [ 2, 15],\n",
              "       [ 3, 20]])"
            ]
          },
          "metadata": {
            "tags": []
          },
          "execution_count": 58
        }
      ]
    },
    {
      "cell_type": "code",
      "metadata": {
        "id": "piAxOtapuhHv",
        "colab": {
          "base_uri": "https://localhost:8080/",
          "height": 68
        },
        "outputId": "8ffffbff-000d-47a0-e521-4266573df169"
      },
      "source": [
        "np.c_[a,d]"
      ],
      "execution_count": null,
      "outputs": [
        {
          "output_type": "execute_result",
          "data": {
            "text/plain": [
              "array([[ 1, 10],\n",
              "       [ 2, 15],\n",
              "       [ 3, 20]])"
            ]
          },
          "metadata": {
            "tags": []
          },
          "execution_count": 59
        }
      ]
    },
    {
      "cell_type": "markdown",
      "metadata": {
        "id": "vvM3XDezwRQe"
      },
      "source": [
        "#Splitting"
      ]
    },
    {
      "cell_type": "code",
      "metadata": {
        "id": "bCiHWKYDulse",
        "colab": {
          "base_uri": "https://localhost:8080/",
          "height": 34
        },
        "outputId": "3a849a1e-32aa-4f75-e37d-c4e68420e4d7"
      },
      "source": [
        "np.hsplit(a,3)\n"
      ],
      "execution_count": null,
      "outputs": [
        {
          "output_type": "execute_result",
          "data": {
            "text/plain": [
              "[array([1]), array([2]), array([3])]"
            ]
          },
          "metadata": {
            "tags": []
          },
          "execution_count": 60
        }
      ]
    },
    {
      "cell_type": "code",
      "metadata": {
        "id": "DjXONSMqu7XO",
        "colab": {
          "base_uri": "https://localhost:8080/",
          "height": 68
        },
        "outputId": "4e49f254-911b-4787-eef1-4cc02098cc25"
      },
      "source": [
        "np.vsplit(c,2)"
      ],
      "execution_count": null,
      "outputs": [
        {
          "output_type": "execute_result",
          "data": {
            "text/plain": [
              "[array([[[1.5, 2. , 3. ],\n",
              "         [4. , 5. , 6. ]]]), array([[[3., 2., 1.],\n",
              "         [4., 5., 6.]]])]"
            ]
          },
          "metadata": {
            "tags": []
          },
          "execution_count": 61
        }
      ]
    },
    {
      "cell_type": "markdown",
      "metadata": {
        "id": "L6YMX5BD0UVV"
      },
      "source": [
        "#Arithmetic Operations"
      ]
    },
    {
      "cell_type": "code",
      "metadata": {
        "id": "FLvFPSxgu-n-",
        "colab": {
          "base_uri": "https://localhost:8080/",
          "height": 51
        },
        "outputId": "4a14d2c6-e7de-4d05-9ad4-88960df52148"
      },
      "source": [
        "g = a - b\n",
        "g"
      ],
      "execution_count": null,
      "outputs": [
        {
          "output_type": "execute_result",
          "data": {
            "text/plain": [
              "array([[-0.5,  0. ,  0. ],\n",
              "       [-3. , -3. , -3. ]])"
            ]
          },
          "metadata": {
            "tags": []
          },
          "execution_count": 65
        }
      ]
    },
    {
      "cell_type": "code",
      "metadata": {
        "id": "xCLkdrLwy6I4",
        "colab": {
          "base_uri": "https://localhost:8080/",
          "height": 51
        },
        "outputId": "ba88517e-f93b-448e-9134-fbf47e49895e"
      },
      "source": [
        "np.subtract(a,b)"
      ],
      "execution_count": null,
      "outputs": [
        {
          "output_type": "execute_result",
          "data": {
            "text/plain": [
              "array([[-0.5,  0. ,  0. ],\n",
              "       [-3. , -3. , -3. ]])"
            ]
          },
          "metadata": {
            "tags": []
          },
          "execution_count": 66
        }
      ]
    },
    {
      "cell_type": "code",
      "metadata": {
        "id": "aEN83agPzQY7",
        "colab": {
          "base_uri": "https://localhost:8080/",
          "height": 51
        },
        "outputId": "42b3d803-158e-4708-825e-b358d2816423"
      },
      "source": [
        "f=b+a\n",
        "f"
      ],
      "execution_count": null,
      "outputs": [
        {
          "output_type": "execute_result",
          "data": {
            "text/plain": [
              "array([[2.5, 4. , 6. ],\n",
              "       [5. , 7. , 9. ]])"
            ]
          },
          "metadata": {
            "tags": []
          },
          "execution_count": 68
        }
      ]
    },
    {
      "cell_type": "code",
      "metadata": {
        "id": "S74bYNzbzVnV",
        "colab": {
          "base_uri": "https://localhost:8080/",
          "height": 51
        },
        "outputId": "90222091-1545-4bad-a00b-30742aecd93f"
      },
      "source": [
        "np.add(b,a)"
      ],
      "execution_count": null,
      "outputs": [
        {
          "output_type": "execute_result",
          "data": {
            "text/plain": [
              "array([[2.5, 4. , 6. ],\n",
              "       [5. , 7. , 9. ]])"
            ]
          },
          "metadata": {
            "tags": []
          },
          "execution_count": 69
        }
      ]
    },
    {
      "cell_type": "code",
      "metadata": {
        "id": "1eZubnEnzdQG",
        "colab": {
          "base_uri": "https://localhost:8080/",
          "height": 51
        },
        "outputId": "5acfe240-1caf-4bce-edec-d5751e395374"
      },
      "source": [
        "a / b"
      ],
      "execution_count": null,
      "outputs": [
        {
          "output_type": "execute_result",
          "data": {
            "text/plain": [
              "array([[0.66666667, 1.        , 1.        ],\n",
              "       [0.25      , 0.4       , 0.5       ]])"
            ]
          },
          "metadata": {
            "tags": []
          },
          "execution_count": 70
        }
      ]
    },
    {
      "cell_type": "code",
      "metadata": {
        "id": "oUYkQ5R2zi4l",
        "colab": {
          "base_uri": "https://localhost:8080/",
          "height": 51
        },
        "outputId": "a361775b-50a8-48c6-d6bb-fd9c7798ac60"
      },
      "source": [
        "np.divide(a,b)"
      ],
      "execution_count": null,
      "outputs": [
        {
          "output_type": "execute_result",
          "data": {
            "text/plain": [
              "array([[0.66666667, 1.        , 1.        ],\n",
              "       [0.25      , 0.4       , 0.5       ]])"
            ]
          },
          "metadata": {
            "tags": []
          },
          "execution_count": 71
        }
      ]
    },
    {
      "cell_type": "code",
      "metadata": {
        "id": "BItA-iK_znpV",
        "colab": {
          "base_uri": "https://localhost:8080/",
          "height": 51
        },
        "outputId": "fa185b56-bdd2-4578-a4c5-cecdc5295ac7"
      },
      "source": [
        "a * b"
      ],
      "execution_count": null,
      "outputs": [
        {
          "output_type": "execute_result",
          "data": {
            "text/plain": [
              "array([[ 1.5,  4. ,  9. ],\n",
              "       [ 4. , 10. , 18. ]])"
            ]
          },
          "metadata": {
            "tags": []
          },
          "execution_count": 72
        }
      ]
    },
    {
      "cell_type": "code",
      "metadata": {
        "id": "9N4UD6QIzssm",
        "colab": {
          "base_uri": "https://localhost:8080/",
          "height": 51
        },
        "outputId": "7fecd4bf-d70c-4e89-fdf5-d900e4dedae2"
      },
      "source": [
        "np.multiply(a,b)"
      ],
      "execution_count": null,
      "outputs": [
        {
          "output_type": "execute_result",
          "data": {
            "text/plain": [
              "array([[ 1.5,  4. ,  9. ],\n",
              "       [ 4. , 10. , 18. ]])"
            ]
          },
          "metadata": {
            "tags": []
          },
          "execution_count": 73
        }
      ]
    },
    {
      "cell_type": "code",
      "metadata": {
        "id": "o8UNOmKTzwqV",
        "colab": {
          "base_uri": "https://localhost:8080/",
          "height": 51
        },
        "outputId": "f9d97933-3096-4f71-ccc9-5b66b5df4942"
      },
      "source": [
        "np.exp(b)"
      ],
      "execution_count": null,
      "outputs": [
        {
          "output_type": "execute_result",
          "data": {
            "text/plain": [
              "array([[  4.48168907,   7.3890561 ,  20.08553692],\n",
              "       [ 54.59815003, 148.4131591 , 403.42879349]])"
            ]
          },
          "metadata": {
            "tags": []
          },
          "execution_count": 74
        }
      ]
    },
    {
      "cell_type": "code",
      "metadata": {
        "id": "KjrNY0fVz3QF",
        "colab": {
          "base_uri": "https://localhost:8080/",
          "height": 51
        },
        "outputId": "fd14b0bf-69ba-482f-b6ae-22b93a90d28f"
      },
      "source": [
        "np.sqrt(b)"
      ],
      "execution_count": null,
      "outputs": [
        {
          "output_type": "execute_result",
          "data": {
            "text/plain": [
              "array([[1.22474487, 1.41421356, 1.73205081],\n",
              "       [2.        , 2.23606798, 2.44948974]])"
            ]
          },
          "metadata": {
            "tags": []
          },
          "execution_count": 75
        }
      ]
    },
    {
      "cell_type": "code",
      "metadata": {
        "id": "0x6l59_Xz8MU",
        "colab": {
          "base_uri": "https://localhost:8080/",
          "height": 34
        },
        "outputId": "b8a1f53d-9cc0-4cc3-96de-fe5f95c22fb0"
      },
      "source": [
        "np.sin(a)"
      ],
      "execution_count": null,
      "outputs": [
        {
          "output_type": "execute_result",
          "data": {
            "text/plain": [
              "array([0.84147098, 0.90929743, 0.14112001])"
            ]
          },
          "metadata": {
            "tags": []
          },
          "execution_count": 76
        }
      ]
    },
    {
      "cell_type": "code",
      "metadata": {
        "id": "KORbjtwDz_iE",
        "colab": {
          "base_uri": "https://localhost:8080/",
          "height": 34
        },
        "outputId": "7b0bd31e-3490-4bb5-ff96-120759c8ea10"
      },
      "source": [
        "np.log(a)"
      ],
      "execution_count": null,
      "outputs": [
        {
          "output_type": "execute_result",
          "data": {
            "text/plain": [
              "array([0.        , 0.69314718, 1.09861229])"
            ]
          },
          "metadata": {
            "tags": []
          },
          "execution_count": 77
        }
      ]
    },
    {
      "cell_type": "code",
      "metadata": {
        "id": "Ak1lCECk0D3z",
        "colab": {
          "base_uri": "https://localhost:8080/",
          "height": 51
        },
        "outputId": "6f360ef7-9b2e-4a87-e2c5-b312e4b63414"
      },
      "source": [
        "np.cos(b)"
      ],
      "execution_count": null,
      "outputs": [
        {
          "output_type": "execute_result",
          "data": {
            "text/plain": [
              "array([[ 0.0707372 , -0.41614684, -0.9899925 ],\n",
              "       [-0.65364362,  0.28366219,  0.96017029]])"
            ]
          },
          "metadata": {
            "tags": []
          },
          "execution_count": 78
        }
      ]
    },
    {
      "cell_type": "code",
      "metadata": {
        "id": "OrCKUHns0N40"
      },
      "source": [],
      "execution_count": null,
      "outputs": []
    }
  ]
}
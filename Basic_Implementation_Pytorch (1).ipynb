{
  "nbformat": 4,
  "nbformat_minor": 0,
  "metadata": {
    "colab": {
      "provenance": []
    },
    "kernelspec": {
      "name": "python3",
      "display_name": "Python 3"
    },
    "language_info": {
      "name": "python"
    }
  },
  "cells": [
    {
      "cell_type": "code",
      "execution_count": 1,
      "metadata": {
        "id": "d-LmYvWcwR_c"
      },
      "outputs": [],
      "source": [
        "import torch"
      ]
    },
    {
      "cell_type": "code",
      "source": [
        "import torch.nn as nn\n",
        "import torch.nn.functional as F\n",
        "from torch.optim import SGD, Adam\n",
        "import matplotlib.pyplot as plt\n",
        "import seaborn as sns\n"
      ],
      "metadata": {
        "id": "3OJU5vkf7ZW5"
      },
      "execution_count": 17,
      "outputs": []
    },
    {
      "cell_type": "markdown",
      "source": [
        "Defining the neural network the biases and weights"
      ],
      "metadata": {
        "id": "1lxKMd4lC9eA"
      }
    },
    {
      "cell_type": "code",
      "source": [
        "class BasicNN (nn.Module):\n",
        "  def __init__(self):\n",
        "    super().__init__()\n",
        "    self.w00 = nn.Parameter(torch.tensor(1.7),requires_grad= False)\n",
        "    self.b00 = nn.Parameter(torch.tensor(-0.85),requires_grad= False)\n",
        "    self.w01 = nn.Parameter(torch.tensor(-40.8),requires_grad= False)\n",
        "\n",
        "    self.w10 = nn.Parameter(torch.tensor(12.6),requires_grad= False)\n",
        "    self.b10 = nn.Parameter(torch.tensor(0.0),requires_grad= False)\n",
        "    self.w11 = nn.Parameter(torch.tensor(2.7),requires_grad= False)\n",
        "\n",
        "    self.final_bias = nn.Parameter(torch.tensor(-16.),requires_grad= False)\n",
        "\n",
        "  def forward(self, input):\n",
        "   input_to_top_relu = input * self.w00 + self.b00\n",
        "   top_relu_output = F.relu(input_to_top_relu) #Relu function comes from the Functional Module\n",
        "   scaled_top_relu_output = top_relu_output*self.w01\n",
        "\n",
        "   input_to_bottom_relu = input * self.w10 + self.b10\n",
        "   bottom_relu_output = F.relu(input_to_bottom_relu) #Relu function comes from the Functional Module\n",
        "   scaled_bottom_relu_output = bottom_relu_output*self.w11\n",
        "\n",
        "   input_to_final_relu = scaled_top_relu_output + scaled_bottom_relu_output + self.final_bias\n",
        "\n",
        "   output = F.relu(input_to_final_relu)\n",
        "\n",
        "   return output\n",
        "\n",
        ""
      ],
      "metadata": {
        "id": "QD4f1q_s755o"
      },
      "execution_count": 26,
      "outputs": []
    },
    {
      "cell_type": "markdown",
      "source": [
        "Now we have to connect these to the input,output and activation functions. We need to make a forward function that uses both the biases and weights that are initialized."
      ],
      "metadata": {
        "id": "bHSRZx4_C3Ft"
      }
    },
    {
      "cell_type": "markdown",
      "source": [
        "__init__ initializes the weights and biases\n",
        "forward() does a forward pass through the neural network by taking an input value and calculating output with weight and biases"
      ],
      "metadata": {
        "id": "FQZ4VJoXFILC"
      }
    },
    {
      "cell_type": "markdown",
      "source": [
        "Pytorch function linspace to create a tensor of a sequence of 11 values between 0 and 1"
      ],
      "metadata": {
        "id": "RmQlsfCoFqph"
      }
    },
    {
      "cell_type": "code",
      "source": [
        "input_doses = torch.linspace(start=0,end=1,steps=11)"
      ],
      "metadata": {
        "id": "YqGpWvyPE3qc"
      },
      "execution_count": 27,
      "outputs": []
    },
    {
      "cell_type": "code",
      "source": [
        "input_doses"
      ],
      "metadata": {
        "colab": {
          "base_uri": "https://localhost:8080/"
        },
        "id": "XFjmPYz4J8Ui",
        "outputId": "1fafe504-8418-4447-ebc1-6014d0cf50f2"
      },
      "execution_count": 28,
      "outputs": [
        {
          "output_type": "execute_result",
          "data": {
            "text/plain": [
              "tensor([0.0000, 0.1000, 0.2000, 0.3000, 0.4000, 0.5000, 0.6000, 0.7000, 0.8000,\n",
              "        0.9000, 1.0000])"
            ]
          },
          "metadata": {},
          "execution_count": 28
        }
      ]
    },
    {
      "cell_type": "code",
      "source": [
        "model = BasicNN()\n",
        "output_values = model(input_doses)\n",
        "sns.set(style ='whitegrid')\n",
        "sns.lineplot(x=input_doses,\n",
        "             y=output_values,\n",
        "             color='blue',\n",
        "             linewidth =2.5)\n",
        "plt.ylabel('Effectiveness')\n",
        "plt.xlabel('Dose')"
      ],
      "metadata": {
        "colab": {
          "base_uri": "https://localhost:8080/",
          "height": 475
        },
        "id": "svbdFsWzJ87k",
        "outputId": "3a11b21c-7f21-483f-a769-4603bce9480a"
      },
      "execution_count": 29,
      "outputs": [
        {
          "output_type": "execute_result",
          "data": {
            "text/plain": [
              "Text(0.5, 0, 'Dose')"
            ]
          },
          "metadata": {},
          "execution_count": 29
        },
        {
          "output_type": "display_data",
          "data": {
            "text/plain": [
              "<Figure size 640x480 with 1 Axes>"
            ],
            "image/png": "[encoded data removed]"
          },
          "metadata": {}
        }
      ]
    },
    {
      "cell_type": "markdown",
      "source": [
        "So here we graphed the results using Pytorch without using Back Propagation.\n",
        "Let's use Backpropagation to optimize the value of bfinal which is -16 in earlier case."
      ],
      "metadata": {
        "id": "axp8fJ57NRJ4"
      }
    },
    {
      "cell_type": "markdown",
      "source": [
        "We change the value of final bias to 0 and requires_grad to True( saying that the parameter must be optimized)"
      ],
      "metadata": {
        "id": "mM7ex6RdNs7r"
      }
    },
    {
      "cell_type": "code",
      "source": [
        "class BasicNN_train (nn.Module):\n",
        "  def __init__(self):\n",
        "    super().__init__()\n",
        "    self.w00 = nn.Parameter(torch.tensor(1.7),requires_grad= False)\n",
        "    self.b00 = nn.Parameter(torch.tensor(-0.85),requires_grad= False)\n",
        "    self.w01 = nn.Parameter(torch.tensor(-40.8),requires_grad= False)\n",
        "\n",
        "    self.w10 = nn.Parameter(torch.tensor(12.6),requires_grad= False)\n",
        "    self.b10 = nn.Parameter(torch.tensor(0.0),requires_grad= False)\n",
        "    self.w11 = nn.Parameter(torch.tensor(2.7),requires_grad= False)\n",
        "\n",
        "    self.final_bias = nn.Parameter(torch.tensor(0.0),requires_grad= True)\n",
        "\n",
        "  def forward(self, input):\n",
        "   input_to_top_relu = input * self.w00 + self.b00\n",
        "   top_relu_output = F.relu(input_to_top_relu) #Relu function comes from the Functional Module\n",
        "   scaled_top_relu_output = top_relu_output*self.w01\n",
        "\n",
        "   input_to_bottom_relu = input * self.w10 + self.b10\n",
        "   bottom_relu_output = F.relu(input_to_bottom_relu) #Relu function comes from the Functional Module\n",
        "   scaled_bottom_relu_output = bottom_relu_output*self.w11\n",
        "\n",
        "   input_to_final_relu = scaled_top_relu_output + scaled_bottom_relu_output + self.final_bias\n",
        "\n",
        "   output = F.relu(input_to_final_relu)\n",
        "\n",
        "   return output\n",
        "\n",
        ""
      ],
      "metadata": {
        "id": "lpfAwMWvMGeI"
      },
      "execution_count": 57,
      "outputs": []
    },
    {
      "cell_type": "code",
      "source": [
        "model = BasicNN_train()\n",
        "output_values = model(input_doses)\n",
        "\n",
        "\n",
        "sns.set(style ='whitegrid')\n",
        "sns.lineplot(x=input_doses,\n",
        "             y=output_values.detach(), #final_bias has a gradienr, we call detach() on output values to create new tensor that only has values\n",
        "             color='blue',\n",
        "             linewidth =2.5)\n",
        "plt.ylabel('Effectiveness')\n",
        "plt.xlabel('Dose')"
      ],
      "metadata": {
        "colab": {
          "base_uri": "https://localhost:8080/",
          "height": 475
        },
        "id": "WuD9Me4mOD7D",
        "outputId": "55973a86-9ece-4550-9b3b-86ae7657dadf"
      },
      "execution_count": 58,
      "outputs": [
        {
          "output_type": "execute_result",
          "data": {
            "text/plain": [
              "Text(0.5, 0, 'Dose')"
            ]
          },
          "metadata": {},
          "execution_count": 58
        },
        {
          "output_type": "display_data",
          "data": {
            "text/plain": [
              "<Figure size 640x480 with 1 Axes>"
            ],
            "image/png": "[encoded data removed]"
          },
          "metadata": {}
        }
      ]
    },
    {
      "cell_type": "markdown",
      "source": [
        "effectiveness = 17 when dose = 0.5"
      ],
      "metadata": {
        "id": "vuRrf45rO4j6"
      }
    },
    {
      "cell_type": "code",
      "source": [
        "inputs = torch.tensor([0.,0.5,1.])\n",
        "labels = torch.tensor([0.,1.,0.])\n",
        "\n",
        "optimizer = SGD(model.parameters(),lr =0.1) # to optimize model.parameters() to SGD() to optimize para set to true\n",
        "print('Final bias, before optimization-' +str(model.final_bias.data)+ \"\\n\")\n"
      ],
      "metadata": {
        "colab": {
          "base_uri": "https://localhost:8080/"
        },
        "id": "NhF2S_X6OGHk",
        "outputId": "93fb3e48-dbbc-4333-8268-e0d670be1d52"
      },
      "execution_count": 59,
      "outputs": [
        {
          "output_type": "stream",
          "name": "stdout",
          "text": [
            "Final bias, before optimization-tensor(0.)\n",
            "\n"
          ]
        }
      ]
    },
    {
      "cell_type": "markdown",
      "source": [
        "Each time our model sees all of the training data is 1 epoch"
      ],
      "metadata": {
        "id": "F1x1JCraRlAX"
      }
    },
    {
      "cell_type": "code",
      "source": [
        "for epoch in range(100):\n",
        "  total_loss = 0 #residue\n",
        "\n",
        "  for iteration in range(len(inputs)):\n",
        "    input_i = inputs[iteration]\n",
        "    label_i = labels[iteration]\n",
        "\n",
        "    output_i = model(input_i)\n",
        "\n",
        "    loss = (output_i - label_i)**2 #squared residual like (0-0)^2\n",
        "    loss.backward() # derivative of squared residual w.r.t to bfinal\n",
        "    # accumulates derivatives each time we go through the nested loop\n",
        "\n",
        "    total_loss += float(loss)\n",
        "\n",
        "  if (total_loss < 0.0001):\n",
        "    print('Num steps:' +str(epoch))\n",
        "    break\n",
        "  optimizer.step()\n",
        "  optimizer.zero_grad()\n",
        "  print('Step:'+str(epoch)+' Final bias, after optimization-' +str(model.final_bias.data)+ \"\\n\")\n",
        "\n",
        "print('Final bias, after optimization-' +str(model.final_bias.data)+ \"\\n\")"
      ],
      "metadata": {
        "colab": {
          "base_uri": "https://localhost:8080/"
        },
        "id": "QR6aUaCqQn6d",
        "outputId": "f83a9c2d-04c0-4922-f905-219085f22a17"
      },
      "execution_count": 60,
      "outputs": [
        {
          "output_type": "stream",
          "name": "stdout",
          "text": [
            "Step:0 Final bias, after optimization-tensor(-3.2020)\n",
            "\n",
            "Step:1 Final bias, after optimization-tensor(-5.7636)\n",
            "\n",
            "Step:2 Final bias, after optimization-tensor(-7.8129)\n",
            "\n",
            "Step:3 Final bias, after optimization-tensor(-9.4523)\n",
            "\n",
            "Step:4 Final bias, after optimization-tensor(-10.7638)\n",
            "\n",
            "Step:5 Final bias, after optimization-tensor(-11.8131)\n",
            "\n",
            "Step:6 Final bias, after optimization-tensor(-12.6525)\n",
            "\n",
            "Step:7 Final bias, after optimization-tensor(-13.3240)\n",
            "\n",
            "Step:8 Final bias, after optimization-tensor(-13.8612)\n",
            "\n",
            "Step:9 Final bias, after optimization-tensor(-14.2909)\n",
            "\n",
            "Step:10 Final bias, after optimization-tensor(-14.6348)\n",
            "\n",
            "Step:11 Final bias, after optimization-tensor(-14.9098)\n",
            "\n",
            "Step:12 Final bias, after optimization-tensor(-15.1298)\n",
            "\n",
            "Step:13 Final bias, after optimization-tensor(-15.3059)\n",
            "\n",
            "Step:14 Final bias, after optimization-tensor(-15.4467)\n",
            "\n",
            "Step:15 Final bias, after optimization-tensor(-15.5594)\n",
            "\n",
            "Step:16 Final bias, after optimization-tensor(-15.6495)\n",
            "\n",
            "Step:17 Final bias, after optimization-tensor(-15.7216)\n",
            "\n",
            "Step:18 Final bias, after optimization-tensor(-15.7793)\n",
            "\n",
            "Step:19 Final bias, after optimization-tensor(-15.8254)\n",
            "\n",
            "Step:20 Final bias, after optimization-tensor(-15.8623)\n",
            "\n",
            "Step:21 Final bias, after optimization-tensor(-15.8919)\n",
            "\n",
            "Step:22 Final bias, after optimization-tensor(-15.9155)\n",
            "\n",
            "Step:23 Final bias, after optimization-tensor(-15.9344)\n",
            "\n",
            "Step:24 Final bias, after optimization-tensor(-15.9495)\n",
            "\n",
            "Step:25 Final bias, after optimization-tensor(-15.9616)\n",
            "\n",
            "Step:26 Final bias, after optimization-tensor(-15.9713)\n",
            "\n",
            "Step:27 Final bias, after optimization-tensor(-15.9790)\n",
            "\n",
            "Step:28 Final bias, after optimization-tensor(-15.9852)\n",
            "\n",
            "Step:29 Final bias, after optimization-tensor(-15.9902)\n",
            "\n",
            "Step:30 Final bias, after optimization-tensor(-15.9941)\n",
            "\n",
            "Step:31 Final bias, after optimization-tensor(-15.9973)\n",
            "\n",
            "Step:32 Final bias, after optimization-tensor(-15.9999)\n",
            "\n",
            "Step:33 Final bias, after optimization-tensor(-16.0019)\n",
            "\n",
            "Num steps:34\n",
            "Final bias, after optimization-tensor(-16.0019)\n",
            "\n"
          ]
        }
      ]
    },
    {
      "cell_type": "markdown",
      "source": [
        "After 34 steps we achieve optimal value"
      ],
      "metadata": {
        "id": "X2I46WrZYB2f"
      }
    },
    {
      "cell_type": "code",
      "source": [
        "output_values = model(input_doses)\n",
        "\n",
        "\n",
        "sns.set(style ='whitegrid')\n",
        "sns.lineplot(x=input_doses,\n",
        "             y=output_values.detach(),\n",
        "             color='blue',\n",
        "             linewidth =2.5)\n",
        "plt.ylabel('Effectiveness')\n",
        "plt.xlabel('Dose')"
      ],
      "metadata": {
        "colab": {
          "base_uri": "https://localhost:8080/",
          "height": 475
        },
        "id": "LNUYvKwUSif2",
        "outputId": "4a5cd042-c553-4faf-a010-8ca7bf07c412"
      },
      "execution_count": 61,
      "outputs": [
        {
          "output_type": "execute_result",
          "data": {
            "text/plain": [
              "Text(0.5, 0, 'Dose')"
            ]
          },
          "metadata": {},
          "execution_count": 61
        },
        {
          "output_type": "display_data",
          "data": {
            "text/plain": [
              "<Figure size 640x480 with 1 Axes>"
            ],
            "image/png": "[encoded data removed]"
          },
          "metadata": {}
        }
      ]
    },
    {
      "cell_type": "code",
      "source": [],
      "metadata": {
        "id": "wkWEAz_NYQlh"
      },
      "execution_count": null,
      "outputs": []
    }
  ]
}
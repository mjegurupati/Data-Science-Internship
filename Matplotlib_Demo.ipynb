{
  "nbformat": 4,
  "nbformat_minor": 0,
  "metadata": {
    "colab": {
      "provenance": []
    },
    "kernelspec": {
      "name": "python3",
      "display_name": "Python 3"
    }
  },
  "cells": [
    {
      "cell_type": "code",
      "metadata": {
        "id": "DFAcnqq5ZgcH"
      },
      "source": [
        "ls"
      ],
      "execution_count": null,
      "outputs": []
    },
    {
      "cell_type": "code",
      "metadata": {
        "id": "bBWhfOhE9XEk"
      },
      "source": [
        "from google.colab import drive\n",
        "import os\n",
        "\n",
        "content_dirs = os.listdir(\"/content\")\n",
        "\n",
        "if \"aiml\" not in content_dirs :\n",
        "  drive.mount(\"aiml\")\n"
      ],
      "execution_count": null,
      "outputs": []
    },
    {
      "cell_type": "code",
      "metadata": {
        "id": "XfCQIJi8kPXf"
      },
      "source": [
        "ls"
      ],
      "execution_count": null,
      "outputs": []
    },
    {
      "cell_type": "code",
      "metadata": {
        "id": "DbAzgjnpkXPr"
      },
      "source": [
        "cd /content/aiml/My Drive/Classroom/AIML Training by Digithon/Introduction To Matplotlib"
      ],
      "execution_count": null,
      "outputs": []
    },
    {
      "cell_type": "code",
      "metadata": {
        "id": "9ry22Yubkdjk"
      },
      "source": [
        "ls"
      ],
      "execution_count": null,
      "outputs": []
    },
    {
      "cell_type": "markdown",
      "metadata": {
        "id": "hcVE6Dwsklxz"
      },
      "source": [
        "Importing the matplotlib library"
      ]
    },
    {
      "cell_type": "markdown",
      "metadata": {
        "id": "euLAs7CHkuXc"
      },
      "source": [
        "#Drawing Line Chart and Scatter Chart"
      ]
    },
    {
      "cell_type": "code",
      "metadata": {
        "id": "u2sYD4gfkfrT"
      },
      "source": [
        "import matplotlib.pyplot as plt\n",
        "\n",
        "%matplotlib inline\n",
        "\n",
        "import numpy as np\n",
        "import pandas as pd"
      ],
      "execution_count": null,
      "outputs": []
    },
    {
      "cell_type": "code",
      "metadata": {
        "id": "QGtNaY0QnTAp"
      },
      "source": [
        "x1 = [1,2,3,4]\n",
        "y1 = [10,20,25,30]\n",
        "\n",
        "x2 = [2,4,6]\n",
        "y2 = [5,15,25]\n",
        "\n",
        "fig = plt.figure(figsize=(5, 10))\n",
        "\n",
        "# Adding title to the graph\n",
        "plt.title(\"Matplotlib Sample Demo\")\n",
        "\n",
        "# Adding X and Y axis names\n",
        "plt.xlabel(\"X-axis\")\n",
        "plt.ylabel(\"Y-axis\")\n",
        "\n",
        "#--------------------------------------------------------------\n",
        "\n",
        "### Adding first plot\n",
        "ax1 = fig.add_subplot(2, 1, 1)\n",
        "\n",
        "# Draw Line Chart\n",
        "ax1.plot(x1, y1, color='lightblue', linewidth=30)\n",
        "\n",
        "\n",
        "ax1.scatter(x2, y2, color='darkgreen', marker='^')\n",
        "\n",
        "#ax1.set_xlim(1, 10)\n",
        "#ax1.set_ylim(0, 50)\n",
        "\n",
        "#plt.savefig('foo.png')\n",
        "\n",
        "#-------------------------------------------------------------\n",
        "\n",
        "### Adding second plot\n",
        "ax2 = fig.add_subplot(2, 1, 2)\n",
        "\n",
        "# Draw Line Chart\n",
        "ax2.plot(x1, y1, color='lightblue', linewidth=3)\n",
        "\n",
        "# Draw Scatter Chart\n",
        "ax2.scatter(x2, y2, color='darkgreen', marker='^')\n",
        "\n",
        "#ax.set_xlim(1, 10)\n",
        "#ax.set_ylim(0, 50)\n",
        "\n",
        "#plt.savefig('foo.png')\n",
        "\n",
        "plt.show()"
      ],
      "execution_count": null,
      "outputs": []
    },
    {
      "cell_type": "markdown",
      "metadata": {
        "id": "zYMiiDNME2jQ"
      },
      "source": [
        "Implementing the Matplotlib Cheat Sheet by Analytics Vidya"
      ]
    },
    {
      "cell_type": "markdown",
      "metadata": {
        "id": "RPW4wM7kE_ar"
      },
      "source": [
        "![alt text](https://)"
      ]
    },
    {
      "cell_type": "code",
      "metadata": {
        "id": "AeOWIY_-hGzL",
        "colab": {
          "base_uri": "https://localhost:8080/",
          "height": 530
        },
        "outputId": "b5bbbbf3-06b7-4b93-cec9-84025e812d89"
      },
      "source": [
        "#Import Library\n",
        "\n",
        "from matplotlib import pyplot as plt\n",
        "\n",
        "#Basic Line Plot\n",
        "\n",
        "#x_values\n",
        "days = [0, 1, 2, 3, 4, 5, 6]\n",
        "\n",
        "#y_values1\n",
        "money_spent = [10, 12, 12, 10, 14, 22, 24]\n",
        "\n",
        "#y_values2\n",
        "money_spent_2 = [11, 14, 15, 15, 22, 21, 12]\n",
        "\n",
        "#assigend to one plot\n",
        "plt.plot(days, money_spent, color=\"red\")\n",
        "plt.plot(days, money_spent_2, color=\"blue\")\n",
        "plt.show()\n",
        "\n",
        "\n",
        "# Subplots\n",
        "# Create subplots\n",
        "#plt.subplot(rows, columns, index_of_subplot)\n",
        "\n",
        "# Example\n",
        "\n",
        "# First Subplot\n",
        "plt.subplot(1, 2, 1)\n",
        "plt.plot(days, money_spent, color='green')\n",
        "\n",
        "# Second Subplot\n",
        "plt.subplot(1, 2, 2)\n",
        "plt.plot(days, money_spent_2, color='steelblue')\n",
        "\n",
        "#plt.subplots()"
      ],
      "execution_count": null,
      "outputs": [
        {
          "output_type": "display_data",
          "data": {
            "image/png": "[encoded data removed]",
            "text/plain": [
              "<Figure size 432x288 with 1 Axes>"
            ]
          },
          "metadata": {
            "tags": [],
            "needs_background": "light"
          }
        },
        {
          "output_type": "execute_result",
          "data": {
            "text/plain": [
              "[<matplotlib.lines.Line2D at 0x7fcc67460668>]"
            ]
          },
          "metadata": {
            "tags": []
          },
          "execution_count": 2
        },
        {
          "output_type": "display_data",
          "data": {
            "image/png": "[encoded data removed]",
            "text/plain": [
              "<Figure size 432x288 with 2 Axes>"
            ]
          },
          "metadata": {
            "tags": [],
            "needs_background": "light"
          }
        }
      ]
    },
    {
      "cell_type": "code",
      "metadata": {
        "id": "IV3wwKOY29P8",
        "colab": {
          "base_uri": "https://localhost:8080/",
          "height": 269
        },
        "outputId": "e8c05a45-e1b7-4ba6-efba-61212cfdbf27"
      },
      "source": [
        "fig, ax = plt.subplots(2,3)"
      ],
      "execution_count": null,
      "outputs": [
        {
          "output_type": "display_data",
          "data": {
            "image/png": "[encoded data removed]",
            "text/plain": [
              "<Figure size 432x288 with 6 Axes>"
            ]
          },
          "metadata": {
            "tags": [],
            "needs_background": "light"
          }
        }
      ]
    },
    {
      "cell_type": "code",
      "metadata": {
        "id": "3ALgkHyM3EuU",
        "colab": {
          "base_uri": "https://localhost:8080/",
          "height": 34
        },
        "outputId": "4a13d611-7fae-4913-9caf-68b5e3fd359d"
      },
      "source": [
        "ax[0][0]\n",
        "\n",
        "ax[0][1]"
      ],
      "execution_count": null,
      "outputs": [
        {
          "output_type": "execute_result",
          "data": {
            "text/plain": [
              "<matplotlib.axes._subplots.AxesSubplot at 0x7fcc6741d3c8>"
            ]
          },
          "metadata": {
            "tags": []
          },
          "execution_count": 7
        }
      ]
    },
    {
      "cell_type": "code",
      "metadata": {
        "id": "p_ldtlekRcNA"
      },
      "source": [
        "x=[1,2,3,4,5,6,7]\n",
        "y=[3,6,2,1,0,10,11]"
      ],
      "execution_count": null,
      "outputs": []
    },
    {
      "cell_type": "markdown",
      "metadata": {
        "id": "yPXdK153Rb5c"
      },
      "source": []
    },
    {
      "cell_type": "code",
      "metadata": {
        "id": "KDnfzRZr3dMH"
      },
      "source": [
        "#plot / show images 6 images\n",
        "\n",
        "for i in range(0,2) :\n",
        "  for j in range(0,3) :\n",
        "    ax[i][j].plot(x, y)"
      ],
      "execution_count": null,
      "outputs": []
    },
    {
      "cell_type": "code",
      "metadata": {
        "id": "S-7Ela9mRknU"
      },
      "source": [
        "plt.show()"
      ],
      "execution_count": null,
      "outputs": []
    },
    {
      "cell_type": "code",
      "metadata": {
        "id": "Nmocx5qIYsj2"
      },
      "source": [
        "df = pd.DataFrame(data=np.array([[\"E001\", \"M\", \"34\", \"123\", \"Normal\", \"350\"], [\"E002\", \"F\", \"40\", \"114\", \"Overweight\", \"450\"], [\"E003\", \"F\", \"37\", \"135\", \"Obesity\", \"169\"], [\"E004\", \"M\", \"30\", \"139\", \"Underweight\", \"189\"], [\"E005\", \"F\", \"44\", \"117\", \"Underweight\", \"183\"], [\"E006\", \"M\", \"36\", \"121\", \"Normal\", \"80\"], [\"E007\", \"M\", \"32\", \"133\", \"Obesity\", \"166\"], [\"E008\", \"F\", \"26\", \"140\", \"Normal\", \"120\"], [\"E009\", \"M\", \"32\", \"133\", \"Normal\", \"75\"], [\"E010\", \"M\", \"36\", \"133\", \"Underweight\", \"40\"]]), columns={\"EMPID\", \"Gender\", \"Age\", \"Sales\", \"BMI\", \"Income\"})"
      ],
      "execution_count": null,
      "outputs": []
    },
    {
      "cell_type": "code",
      "metadata": {
        "id": "m4cjhwQ6RPIT"
      },
      "source": [
        "data = {'EMPID' : ['E001', 'E002', 'E003', 'E004', 'E005', 'E006', 'E007', 'E008', 'E009', 'E010'],\n",
        "        'Gender' : ['M', 'F', 'F', 'M', 'F', 'M', 'M', 'F', 'M', 'M'],\n",
        "        'Age' : [34, 40, 37, 30, 44, 36, 32, 26, 32, 36],\n",
        "        'Sales' : [123, 114, 135, 139, 117, 121, 133, 140, 133, 133],\n",
        "        'BMI' : ['Normal', 'Overweight', 'Obesity', 'Underweight', 'Underweight', 'Normal', 'Obesity', 'Normal', 'Normal', 'Underweight'],\n",
        "        'Income' : [350, 450, 169, 189, 183, 80, 166, 120, 75, 40]\n",
        "        }"
      ],
      "execution_count": null,
      "outputs": []
    },
    {
      "cell_type": "code",
      "metadata": {
        "id": "RGvLuXuUb90R",
        "colab": {
          "base_uri": "https://localhost:8080/",
          "height": 420
        },
        "outputId": "ddd1e16f-abbd-46d5-82de-9cfc52bed8ce"
      },
      "source": [
        "data"
      ],
      "execution_count": null,
      "outputs": [
        {
          "output_type": "execute_result",
          "data": {
            "text/plain": [
              "{'Age': [34, 40, 37, 30, 44, 36, 32, 26, 32, 36],\n",
              " 'BMI': ['Normal',\n",
              "  'Overweight',\n",
              "  'Obesity',\n",
              "  'Underweight',\n",
              "  'Underweight',\n",
              "  'Normal',\n",
              "  'Obesity',\n",
              "  'Normal',\n",
              "  'Normal',\n",
              "  'Underweight'],\n",
              " 'EMPID': ['E001',\n",
              "  'E002',\n",
              "  'E003',\n",
              "  'E004',\n",
              "  'E005',\n",
              "  'E006',\n",
              "  'E007',\n",
              "  'E008',\n",
              "  'E009',\n",
              "  'E010'],\n",
              " 'Gender': ['M', 'F', 'F', 'M', 'F', 'M', 'M', 'F', 'M', 'M'],\n",
              " 'Income': [350, 450, 169, 189, 183, 80, 166, 120, 75, 40],\n",
              " 'Sales': [123, 114, 135, 139, 117, 121, 133, 140, 133, 133]}"
            ]
          },
          "metadata": {
            "tags": []
          },
          "execution_count": 15
        }
      ]
    },
    {
      "cell_type": "code",
      "metadata": {
        "id": "RR1OlvW7FFed"
      },
      "source": [
        "df = pd.DataFrame(data, columns=data.keys())"
      ],
      "execution_count": null,
      "outputs": []
    },
    {
      "cell_type": "code",
      "metadata": {
        "id": "AUvMkZGhFIUw",
        "colab": {
          "base_uri": "https://localhost:8080/",
          "height": 343
        },
        "outputId": "b72dc10c-5518-4539-ad83-1cec37a88ba2"
      },
      "source": [
        "df"
      ],
      "execution_count": null,
      "outputs": [
        {
          "output_type": "execute_result",
          "data": {
            "text/html": [
              "<div>\n",
              "<style scoped>\n",
              "    .dataframe tbody tr th:only-of-type {\n",
              "        vertical-align: middle;\n",
              "    }\n",
              "\n",
              "    .dataframe tbody tr th {\n",
              "        vertical-align: top;\n",
              "    }\n",
              "\n",
              "    .dataframe thead th {\n",
              "        text-align: right;\n",
              "    }\n",
              "</style>\n",
              "<table border=\"1\" class=\"dataframe\">\n",
              "  <thead>\n",
              "    <tr style=\"text-align: right;\">\n",
              "      <th></th>\n",
              "      <th>EMPID</th>\n",
              "      <th>Gender</th>\n",
              "      <th>Age</th>\n",
              "      <th>Sales</th>\n",
              "      <th>BMI</th>\n",
              "      <th>Income</th>\n",
              "    </tr>\n",
              "  </thead>\n",
              "  <tbody>\n",
              "    <tr>\n",
              "      <th>0</th>\n",
              "      <td>E001</td>\n",
              "      <td>M</td>\n",
              "      <td>34</td>\n",
              "      <td>123</td>\n",
              "      <td>Normal</td>\n",
              "      <td>350</td>\n",
              "    </tr>\n",
              "    <tr>\n",
              "      <th>1</th>\n",
              "      <td>E002</td>\n",
              "      <td>F</td>\n",
              "      <td>40</td>\n",
              "      <td>114</td>\n",
              "      <td>Overweight</td>\n",
              "      <td>450</td>\n",
              "    </tr>\n",
              "    <tr>\n",
              "      <th>2</th>\n",
              "      <td>E003</td>\n",
              "      <td>F</td>\n",
              "      <td>37</td>\n",
              "      <td>135</td>\n",
              "      <td>Obesity</td>\n",
              "      <td>169</td>\n",
              "    </tr>\n",
              "    <tr>\n",
              "      <th>3</th>\n",
              "      <td>E004</td>\n",
              "      <td>M</td>\n",
              "      <td>30</td>\n",
              "      <td>139</td>\n",
              "      <td>Underweight</td>\n",
              "      <td>189</td>\n",
              "    </tr>\n",
              "    <tr>\n",
              "      <th>4</th>\n",
              "      <td>E005</td>\n",
              "      <td>F</td>\n",
              "      <td>44</td>\n",
              "      <td>117</td>\n",
              "      <td>Underweight</td>\n",
              "      <td>183</td>\n",
              "    </tr>\n",
              "    <tr>\n",
              "      <th>5</th>\n",
              "      <td>E006</td>\n",
              "      <td>M</td>\n",
              "      <td>36</td>\n",
              "      <td>121</td>\n",
              "      <td>Normal</td>\n",
              "      <td>80</td>\n",
              "    </tr>\n",
              "    <tr>\n",
              "      <th>6</th>\n",
              "      <td>E007</td>\n",
              "      <td>M</td>\n",
              "      <td>32</td>\n",
              "      <td>133</td>\n",
              "      <td>Obesity</td>\n",
              "      <td>166</td>\n",
              "    </tr>\n",
              "    <tr>\n",
              "      <th>7</th>\n",
              "      <td>E008</td>\n",
              "      <td>F</td>\n",
              "      <td>26</td>\n",
              "      <td>140</td>\n",
              "      <td>Normal</td>\n",
              "      <td>120</td>\n",
              "    </tr>\n",
              "    <tr>\n",
              "      <th>8</th>\n",
              "      <td>E009</td>\n",
              "      <td>M</td>\n",
              "      <td>32</td>\n",
              "      <td>133</td>\n",
              "      <td>Normal</td>\n",
              "      <td>75</td>\n",
              "    </tr>\n",
              "    <tr>\n",
              "      <th>9</th>\n",
              "      <td>E010</td>\n",
              "      <td>M</td>\n",
              "      <td>36</td>\n",
              "      <td>133</td>\n",
              "      <td>Underweight</td>\n",
              "      <td>40</td>\n",
              "    </tr>\n",
              "  </tbody>\n",
              "</table>\n",
              "</div>"
            ],
            "text/plain": [
              "  EMPID Gender  Age  Sales          BMI  Income\n",
              "0  E001      M   34    123       Normal     350\n",
              "1  E002      F   40    114   Overweight     450\n",
              "2  E003      F   37    135      Obesity     169\n",
              "3  E004      M   30    139  Underweight     189\n",
              "4  E005      F   44    117  Underweight     183\n",
              "5  E006      M   36    121       Normal      80\n",
              "6  E007      M   32    133      Obesity     166\n",
              "7  E008      F   26    140       Normal     120\n",
              "8  E009      M   32    133       Normal      75\n",
              "9  E010      M   36    133  Underweight      40"
            ]
          },
          "metadata": {
            "tags": []
          },
          "execution_count": 17
        }
      ]
    },
    {
      "cell_type": "code",
      "metadata": {
        "id": "U_P72OQpFL2X"
      },
      "source": [
        "#df.to_csv(\"Demo_Dataframe.csv\")\n",
        "df.to_csv(\"BMI_Final.csv\", index=False)"
      ],
      "execution_count": null,
      "outputs": []
    },
    {
      "cell_type": "code",
      "metadata": {
        "id": "LsdBaAmVUMB1"
      },
      "source": [
        "df = pd.read_csv(\"BMI_Final.csv\")"
      ],
      "execution_count": null,
      "outputs": []
    },
    {
      "cell_type": "code",
      "metadata": {
        "id": "jrCSZ93pUSJO"
      },
      "source": [
        "df"
      ],
      "execution_count": null,
      "outputs": []
    },
    {
      "cell_type": "code",
      "metadata": {
        "id": "WIBT6Wu4UTJe"
      },
      "source": [
        "df_gender = df.groupby(\"Gender\")"
      ],
      "execution_count": null,
      "outputs": []
    },
    {
      "cell_type": "code",
      "metadata": {
        "id": "ojuQAIA9UivI",
        "colab": {
          "base_uri": "https://localhost:8080/",
          "height": 50
        },
        "outputId": "f5c44f56-950e-48a9-8a9b-705377f8ea4a"
      },
      "source": [
        "df_gender.groups"
      ],
      "execution_count": null,
      "outputs": [
        {
          "output_type": "execute_result",
          "data": {
            "text/plain": [
              "{'F': Int64Index([1, 2, 4, 7], dtype='int64'),\n",
              " 'M': Int64Index([0, 3, 5, 6, 8, 9], dtype='int64')}"
            ]
          },
          "metadata": {
            "tags": []
          },
          "execution_count": 20
        }
      ]
    },
    {
      "cell_type": "code",
      "metadata": {
        "id": "OHtlBBPLUngE",
        "colab": {
          "base_uri": "https://localhost:8080/",
          "height": 225
        },
        "outputId": "efd316b4-b9c7-4a65-b8a6-6025a0c98733"
      },
      "source": [
        "df_gender.get_group('M')"
      ],
      "execution_count": null,
      "outputs": [
        {
          "output_type": "execute_result",
          "data": {
            "text/html": [
              "<div>\n",
              "<style scoped>\n",
              "    .dataframe tbody tr th:only-of-type {\n",
              "        vertical-align: middle;\n",
              "    }\n",
              "\n",
              "    .dataframe tbody tr th {\n",
              "        vertical-align: top;\n",
              "    }\n",
              "\n",
              "    .dataframe thead th {\n",
              "        text-align: right;\n",
              "    }\n",
              "</style>\n",
              "<table border=\"1\" class=\"dataframe\">\n",
              "  <thead>\n",
              "    <tr style=\"text-align: right;\">\n",
              "      <th></th>\n",
              "      <th>EMPID</th>\n",
              "      <th>Gender</th>\n",
              "      <th>Age</th>\n",
              "      <th>Sales</th>\n",
              "      <th>BMI</th>\n",
              "      <th>Income</th>\n",
              "    </tr>\n",
              "  </thead>\n",
              "  <tbody>\n",
              "    <tr>\n",
              "      <th>0</th>\n",
              "      <td>E001</td>\n",
              "      <td>M</td>\n",
              "      <td>34</td>\n",
              "      <td>123</td>\n",
              "      <td>Normal</td>\n",
              "      <td>350</td>\n",
              "    </tr>\n",
              "    <tr>\n",
              "      <th>3</th>\n",
              "      <td>E004</td>\n",
              "      <td>M</td>\n",
              "      <td>30</td>\n",
              "      <td>139</td>\n",
              "      <td>Underweight</td>\n",
              "      <td>189</td>\n",
              "    </tr>\n",
              "    <tr>\n",
              "      <th>5</th>\n",
              "      <td>E006</td>\n",
              "      <td>M</td>\n",
              "      <td>36</td>\n",
              "      <td>121</td>\n",
              "      <td>Normal</td>\n",
              "      <td>80</td>\n",
              "    </tr>\n",
              "    <tr>\n",
              "      <th>6</th>\n",
              "      <td>E007</td>\n",
              "      <td>M</td>\n",
              "      <td>32</td>\n",
              "      <td>133</td>\n",
              "      <td>Obesity</td>\n",
              "      <td>166</td>\n",
              "    </tr>\n",
              "    <tr>\n",
              "      <th>8</th>\n",
              "      <td>E009</td>\n",
              "      <td>M</td>\n",
              "      <td>32</td>\n",
              "      <td>133</td>\n",
              "      <td>Normal</td>\n",
              "      <td>75</td>\n",
              "    </tr>\n",
              "    <tr>\n",
              "      <th>9</th>\n",
              "      <td>E010</td>\n",
              "      <td>M</td>\n",
              "      <td>36</td>\n",
              "      <td>133</td>\n",
              "      <td>Underweight</td>\n",
              "      <td>40</td>\n",
              "    </tr>\n",
              "  </tbody>\n",
              "</table>\n",
              "</div>"
            ],
            "text/plain": [
              "  EMPID Gender  Age  Sales          BMI  Income\n",
              "0  E001      M   34    123       Normal     350\n",
              "3  E004      M   30    139  Underweight     189\n",
              "5  E006      M   36    121       Normal      80\n",
              "6  E007      M   32    133      Obesity     166\n",
              "8  E009      M   32    133       Normal      75\n",
              "9  E010      M   36    133  Underweight      40"
            ]
          },
          "metadata": {
            "tags": []
          },
          "execution_count": 21
        }
      ]
    },
    {
      "cell_type": "code",
      "metadata": {
        "id": "ADuWnL3GUe0-",
        "colab": {
          "base_uri": "https://localhost:8080/",
          "height": 166
        },
        "outputId": "96d3e407-1ccf-4c0c-e942-b4ab383b4bd8"
      },
      "source": [
        "df_gender.get_group('F')"
      ],
      "execution_count": null,
      "outputs": [
        {
          "output_type": "execute_result",
          "data": {
            "text/html": [
              "<div>\n",
              "<style scoped>\n",
              "    .dataframe tbody tr th:only-of-type {\n",
              "        vertical-align: middle;\n",
              "    }\n",
              "\n",
              "    .dataframe tbody tr th {\n",
              "        vertical-align: top;\n",
              "    }\n",
              "\n",
              "    .dataframe thead th {\n",
              "        text-align: right;\n",
              "    }\n",
              "</style>\n",
              "<table border=\"1\" class=\"dataframe\">\n",
              "  <thead>\n",
              "    <tr style=\"text-align: right;\">\n",
              "      <th></th>\n",
              "      <th>EMPID</th>\n",
              "      <th>Gender</th>\n",
              "      <th>Age</th>\n",
              "      <th>Sales</th>\n",
              "      <th>BMI</th>\n",
              "      <th>Income</th>\n",
              "    </tr>\n",
              "  </thead>\n",
              "  <tbody>\n",
              "    <tr>\n",
              "      <th>1</th>\n",
              "      <td>E002</td>\n",
              "      <td>F</td>\n",
              "      <td>40</td>\n",
              "      <td>114</td>\n",
              "      <td>Overweight</td>\n",
              "      <td>450</td>\n",
              "    </tr>\n",
              "    <tr>\n",
              "      <th>2</th>\n",
              "      <td>E003</td>\n",
              "      <td>F</td>\n",
              "      <td>37</td>\n",
              "      <td>135</td>\n",
              "      <td>Obesity</td>\n",
              "      <td>169</td>\n",
              "    </tr>\n",
              "    <tr>\n",
              "      <th>4</th>\n",
              "      <td>E005</td>\n",
              "      <td>F</td>\n",
              "      <td>44</td>\n",
              "      <td>117</td>\n",
              "      <td>Underweight</td>\n",
              "      <td>183</td>\n",
              "    </tr>\n",
              "    <tr>\n",
              "      <th>7</th>\n",
              "      <td>E008</td>\n",
              "      <td>F</td>\n",
              "      <td>26</td>\n",
              "      <td>140</td>\n",
              "      <td>Normal</td>\n",
              "      <td>120</td>\n",
              "    </tr>\n",
              "  </tbody>\n",
              "</table>\n",
              "</div>"
            ],
            "text/plain": [
              "  EMPID Gender  Age  Sales          BMI  Income\n",
              "1  E002      F   40    114   Overweight     450\n",
              "2  E003      F   37    135      Obesity     169\n",
              "4  E005      F   44    117  Underweight     183\n",
              "7  E008      F   26    140       Normal     120"
            ]
          },
          "metadata": {
            "tags": []
          },
          "execution_count": 22
        }
      ]
    },
    {
      "cell_type": "code",
      "metadata": {
        "id": "qNnHayRrV7r5",
        "colab": {
          "base_uri": "https://localhost:8080/",
          "height": 284
        },
        "outputId": "ba696258-31a3-41ae-e16e-066500560547"
      },
      "source": [
        "df.describe()"
      ],
      "execution_count": null,
      "outputs": [
        {
          "output_type": "execute_result",
          "data": {
            "text/html": [
              "<div>\n",
              "<style scoped>\n",
              "    .dataframe tbody tr th:only-of-type {\n",
              "        vertical-align: middle;\n",
              "    }\n",
              "\n",
              "    .dataframe tbody tr th {\n",
              "        vertical-align: top;\n",
              "    }\n",
              "\n",
              "    .dataframe thead th {\n",
              "        text-align: right;\n",
              "    }\n",
              "</style>\n",
              "<table border=\"1\" class=\"dataframe\">\n",
              "  <thead>\n",
              "    <tr style=\"text-align: right;\">\n",
              "      <th></th>\n",
              "      <th>Age</th>\n",
              "      <th>Sales</th>\n",
              "      <th>Income</th>\n",
              "    </tr>\n",
              "  </thead>\n",
              "  <tbody>\n",
              "    <tr>\n",
              "      <th>count</th>\n",
              "      <td>10.000000</td>\n",
              "      <td>10.000000</td>\n",
              "      <td>10.000000</td>\n",
              "    </tr>\n",
              "    <tr>\n",
              "      <th>mean</th>\n",
              "      <td>34.700000</td>\n",
              "      <td>128.800000</td>\n",
              "      <td>182.200000</td>\n",
              "    </tr>\n",
              "    <tr>\n",
              "      <th>std</th>\n",
              "      <td>5.121849</td>\n",
              "      <td>9.271222</td>\n",
              "      <td>127.533699</td>\n",
              "    </tr>\n",
              "    <tr>\n",
              "      <th>min</th>\n",
              "      <td>26.000000</td>\n",
              "      <td>114.000000</td>\n",
              "      <td>40.000000</td>\n",
              "    </tr>\n",
              "    <tr>\n",
              "      <th>25%</th>\n",
              "      <td>32.000000</td>\n",
              "      <td>121.500000</td>\n",
              "      <td>90.000000</td>\n",
              "    </tr>\n",
              "    <tr>\n",
              "      <th>50%</th>\n",
              "      <td>35.000000</td>\n",
              "      <td>133.000000</td>\n",
              "      <td>167.500000</td>\n",
              "    </tr>\n",
              "    <tr>\n",
              "      <th>75%</th>\n",
              "      <td>36.750000</td>\n",
              "      <td>134.500000</td>\n",
              "      <td>187.500000</td>\n",
              "    </tr>\n",
              "    <tr>\n",
              "      <th>max</th>\n",
              "      <td>44.000000</td>\n",
              "      <td>140.000000</td>\n",
              "      <td>450.000000</td>\n",
              "    </tr>\n",
              "  </tbody>\n",
              "</table>\n",
              "</div>"
            ],
            "text/plain": [
              "             Age       Sales      Income\n",
              "count  10.000000   10.000000   10.000000\n",
              "mean   34.700000  128.800000  182.200000\n",
              "std     5.121849    9.271222  127.533699\n",
              "min    26.000000  114.000000   40.000000\n",
              "25%    32.000000  121.500000   90.000000\n",
              "50%    35.000000  133.000000  167.500000\n",
              "75%    36.750000  134.500000  187.500000\n",
              "max    44.000000  140.000000  450.000000"
            ]
          },
          "metadata": {
            "tags": []
          },
          "execution_count": 23
        }
      ]
    },
    {
      "cell_type": "code",
      "metadata": {
        "id": "9NPXWlMIV9Z8",
        "colab": {
          "base_uri": "https://localhost:8080/",
          "height": 295
        },
        "outputId": "22363102-0f74-415c-a1c1-23e582dbf013"
      },
      "source": [
        "fig = plt.figure()\n",
        "\n",
        "ax = fig.add_subplot(111)\n",
        "ax.set_xlabel('Age')\n",
        "ax.set_ylabel('Sales')\n",
        "ax.set_title('Age Vs Sales')\n",
        "\n",
        "plt.scatter(df['Age'], df['Sales'])\n",
        "\n",
        "plt.show()\n"
      ],
      "execution_count": null,
      "outputs": [
        {
          "output_type": "display_data",
          "data": {
            "image/png": "[encoded data removed]",
            "text/plain": [
              "<Figure size 432x288 with 1 Axes>"
            ]
          },
          "metadata": {
            "tags": [],
            "needs_background": "light"
          }
        }
      ]
    },
    {
      "cell_type": "code",
      "metadata": {
        "id": "HSmDzWevb_Uv",
        "colab": {
          "base_uri": "https://localhost:8080/",
          "height": 295
        },
        "outputId": "cf9a6273-ba0a-4a31-c5e0-c36dde8ffb26"
      },
      "source": [
        "fig = plt.figure()\n",
        "\n",
        "ax = fig.add_subplot(111)\n",
        "ax.set_xlabel('Age')\n",
        "ax.set_ylabel('Sales')\n",
        "ax.set_title('Age Vs Sales')\n",
        "\n",
        "plt.scatter(df['Age'], df['Sales'], s=df['Income'])\n",
        "\n",
        "plt.show()\n"
      ],
      "execution_count": null,
      "outputs": [
        {
          "output_type": "display_data",
          "data": {
            "image/png": "[encoded data removed]",
            "text/plain": [
              "<Figure size 432x288 with 1 Axes>"
            ]
          },
          "metadata": {
            "tags": [],
            "needs_background": "light"
          }
        }
      ]
    },
    {
      "cell_type": "code",
      "metadata": {
        "id": "TWY7tOtoU3Fy",
        "colab": {
          "base_uri": "https://localhost:8080/",
          "height": 295
        },
        "outputId": "21b3d4e5-2942-4251-b926-6bc9bdc01fab"
      },
      "source": [
        "fig = plt.figure()\n",
        "ax = fig.add_subplot(111)\n",
        "ax.hist(df['Age'], bins=7)\n",
        "\n",
        "plt.title('Age Distribution')\n",
        "plt.xlabel('Age')\n",
        "plt.ylabel('#Employees')\n",
        "\n",
        "plt.show()"
      ],
      "execution_count": null,
      "outputs": [
        {
          "output_type": "display_data",
          "data": {
            "image/png": "[encoded data removed]",
            "text/plain": [
              "<Figure size 432x288 with 1 Axes>"
            ]
          },
          "metadata": {
            "tags": [],
            "needs_background": "light"
          }
        }
      ]
    },
    {
      "cell_type": "code",
      "metadata": {
        "id": "QQx6TIPOVQ3w",
        "colab": {
          "base_uri": "https://localhost:8080/",
          "height": 320
        },
        "outputId": "b043a291-4e34-4471-c73e-eb7f3bd8a7c3"
      },
      "source": [
        "fig = plt.figure(figsize=(10, 5))\n",
        "\n",
        "ax1 = fig.add_subplot(131)\n",
        "ax1.boxplot(df['Age'])\n",
        "\n",
        "ax2 = fig.add_subplot(132)\n",
        "ax2.boxplot(df['Sales'])\n",
        "\n",
        "ax3 = fig.add_subplot(133)\n",
        "ax3.boxplot(df['Income'])\n",
        "\n",
        "plt.show()"
      ],
      "execution_count": null,
      "outputs": [
        {
          "output_type": "display_data",
          "data": {
            "image/png": "[encoded data removed]",
            "text/plain": [
              "<Figure size 720x360 with 3 Axes>"
            ]
          },
          "metadata": {
            "tags": [],
            "needs_background": "light"
          }
        }
      ]
    },
    {
      "cell_type": "code",
      "metadata": {
        "id": "p01fAxBLV1Xy",
        "colab": {
          "base_uri": "https://localhost:8080/",
          "height": 70
        },
        "outputId": "07f98cf0-c3f1-48ab-ed43-cdabde2bb867"
      },
      "source": [
        "import seaborn as sns"
      ],
      "execution_count": null,
      "outputs": [
        {
          "output_type": "stream",
          "text": [
            "/usr/local/lib/python3.6/dist-packages/statsmodels/tools/_testing.py:19: FutureWarning: pandas.util.testing is deprecated. Use the functions in the public API at pandas.testing instead.\n",
            "  import pandas.util.testing as tm\n"
          ],
          "name": "stderr"
        }
      ]
    },
    {
      "cell_type": "code",
      "metadata": {
        "id": "JmmhzigmWxB6",
        "colab": {
          "base_uri": "https://localhost:8080/",
          "height": 279
        },
        "outputId": "b0fdb566-acda-4ecf-d138-ab3a3b6e8e3e"
      },
      "source": [
        "sns.violinplot(df['Gender'], df['Age'])\n",
        "sns.despine()"
      ],
      "execution_count": null,
      "outputs": [
        {
          "output_type": "display_data",
          "data": {
            "image/png": "[encoded data removed]",
            "text/plain": [
              "<Figure size 432x288 with 1 Axes>"
            ]
          },
          "metadata": {
            "tags": [],
            "needs_background": "light"
          }
        }
      ]
    },
    {
      "cell_type": "code",
      "metadata": {
        "id": "iJm9U_SuW8PG"
      },
      "source": [
        "var_gender = df.groupby(['Gender'])"
      ],
      "execution_count": null,
      "outputs": []
    },
    {
      "cell_type": "code",
      "metadata": {
        "id": "w6olmZesXNd6"
      },
      "source": [
        "var_sales = var_gender.Sales.sum()"
      ],
      "execution_count": null,
      "outputs": []
    },
    {
      "cell_type": "code",
      "metadata": {
        "id": "vtFIxO4SYNAw",
        "colab": {
          "base_uri": "https://localhost:8080/",
          "height": 84
        },
        "outputId": "1be0cb21-8123-44f1-ca68-c238a4fc3c4c"
      },
      "source": [
        "var_sales"
      ],
      "execution_count": null,
      "outputs": [
        {
          "output_type": "execute_result",
          "data": {
            "text/plain": [
              "Gender\n",
              "F    506\n",
              "M    782\n",
              "Name: Sales, dtype: int64"
            ]
          },
          "metadata": {
            "tags": []
          },
          "execution_count": 32
        }
      ]
    },
    {
      "cell_type": "code",
      "metadata": {
        "id": "uknZ8bvWXfyK",
        "colab": {
          "base_uri": "https://localhost:8080/",
          "height": 311
        },
        "outputId": "2f403713-983a-407a-f4b1-bbbe0a3f8e85"
      },
      "source": [
        "fig = plt.figure()\n",
        "\n",
        "ax1 = fig.add_subplot(111)\n",
        "ax1.set_xlabel('Gender')\n",
        "ax1.set_ylabel('Sum of Sales')\n",
        "ax1.set_title('Gender wise Sum of Sales')\n",
        "\n",
        "var_sales.plot(kind='bar')"
      ],
      "execution_count": null,
      "outputs": [
        {
          "output_type": "execute_result",
          "data": {
            "text/plain": [
              "<matplotlib.axes._subplots.AxesSubplot at 0x7fcc67295f28>"
            ]
          },
          "metadata": {
            "tags": []
          },
          "execution_count": 33
        },
        {
          "output_type": "display_data",
          "data": {
            "image/png": "[encoded data removed]",
            "text/plain": [
              "<Figure size 432x288 with 1 Axes>"
            ]
          },
          "metadata": {
            "tags": [],
            "needs_background": "light"
          }
        }
      ]
    },
    {
      "cell_type": "code",
      "metadata": {
        "id": "Ws4EknbRYKT9",
        "colab": {
          "base_uri": "https://localhost:8080/",
          "height": 265
        },
        "outputId": "ae0de4d2-a558-4393-a97d-30cedab387d6"
      },
      "source": [
        "var_sales.plot(kind='pie')"
      ],
      "execution_count": null,
      "outputs": [
        {
          "output_type": "execute_result",
          "data": {
            "text/plain": [
              "<matplotlib.axes._subplots.AxesSubplot at 0x7fcc67295710>"
            ]
          },
          "metadata": {
            "tags": []
          },
          "execution_count": 34
        },
        {
          "output_type": "display_data",
          "data": {
            "image/png": "[encoded data removed]",
            "text/plain": [
              "<Figure size 432x288 with 1 Axes>"
            ]
          },
          "metadata": {
            "tags": []
          }
        }
      ]
    },
    {
      "cell_type": "code",
      "metadata": {
        "id": "r-rqfbgBYVIt"
      },
      "source": [
        "var_bmi = df.groupby('BMI')"
      ],
      "execution_count": null,
      "outputs": []
    },
    {
      "cell_type": "code",
      "metadata": {
        "id": "JpoxY65uYgWM"
      },
      "source": [
        "var_sales = var_bmi.Sales.sum()"
      ],
      "execution_count": null,
      "outputs": []
    },
    {
      "cell_type": "code",
      "metadata": {
        "id": "1gcS6lRQZRlp",
        "colab": {
          "base_uri": "https://localhost:8080/",
          "height": 312
        },
        "outputId": "cfa7634e-8626-46f4-a038-b8cf7540913d"
      },
      "source": [
        "fig = plt.figure()\n",
        "\n",
        "ax = fig.add_subplot(111)\n",
        "ax.set_xlabel('BMI')\n",
        "ax.set_ylabel('Sum of Sales')\n",
        "ax.set_title('BMI wise Sum of Sales')\n",
        "\n",
        "var_sales.plot(kind='line')"
      ],
      "execution_count": null,
      "outputs": [
        {
          "output_type": "execute_result",
          "data": {
            "text/plain": [
              "<matplotlib.axes._subplots.AxesSubplot at 0x7fcc5c134748>"
            ]
          },
          "metadata": {
            "tags": []
          },
          "execution_count": 37
        },
        {
          "output_type": "display_data",
          "data": {
            "image/png": "[encoded data removed]",
            "text/plain": [
              "<Figure size 432x288 with 1 Axes>"
            ]
          },
          "metadata": {
            "tags": [],
            "needs_background": "light"
          }
        }
      ]
    },
    {
      "cell_type": "code",
      "metadata": {
        "id": "WavYnRprZmZK"
      },
      "source": [
        "var_bmi_gender = df.groupby(['BMI', 'Gender'])"
      ],
      "execution_count": null,
      "outputs": []
    },
    {
      "cell_type": "markdown",
      "metadata": {
        "id": "p25z1i1qcgZR"
      },
      "source": []
    },
    {
      "cell_type": "code",
      "metadata": {
        "id": "---bhIbhaOS1",
        "colab": {
          "base_uri": "https://localhost:8080/",
          "height": 34
        },
        "outputId": "fa634681-10b7-4632-df38-c62e5b91faf3"
      },
      "source": [
        "var_bmi_gender"
      ],
      "execution_count": null,
      "outputs": [
        {
          "output_type": "execute_result",
          "data": {
            "text/plain": [
              "<pandas.core.groupby.generic.DataFrameGroupBy object at 0x7fcc6741db38>"
            ]
          },
          "metadata": {
            "tags": []
          },
          "execution_count": 39
        }
      ]
    },
    {
      "cell_type": "code",
      "metadata": {
        "id": "1tNBGni-aQSQ",
        "colab": {
          "base_uri": "https://localhost:8080/",
          "height": 284
        },
        "outputId": "909d3173-ea25-4537-f664-62050288276a"
      },
      "source": [
        "var_bmi_gender.count()"
      ],
      "execution_count": null,
      "outputs": [
        {
          "output_type": "execute_result",
          "data": {
            "text/html": [
              "<div>\n",
              "<style scoped>\n",
              "    .dataframe tbody tr th:only-of-type {\n",
              "        vertical-align: middle;\n",
              "    }\n",
              "\n",
              "    .dataframe tbody tr th {\n",
              "        vertical-align: top;\n",
              "    }\n",
              "\n",
              "    .dataframe thead th {\n",
              "        text-align: right;\n",
              "    }\n",
              "</style>\n",
              "<table border=\"1\" class=\"dataframe\">\n",
              "  <thead>\n",
              "    <tr style=\"text-align: right;\">\n",
              "      <th></th>\n",
              "      <th></th>\n",
              "      <th>EMPID</th>\n",
              "      <th>Age</th>\n",
              "      <th>Sales</th>\n",
              "      <th>Income</th>\n",
              "    </tr>\n",
              "    <tr>\n",
              "      <th>BMI</th>\n",
              "      <th>Gender</th>\n",
              "      <th></th>\n",
              "      <th></th>\n",
              "      <th></th>\n",
              "      <th></th>\n",
              "    </tr>\n",
              "  </thead>\n",
              "  <tbody>\n",
              "    <tr>\n",
              "      <th rowspan=\"2\" valign=\"top\">Normal</th>\n",
              "      <th>F</th>\n",
              "      <td>1</td>\n",
              "      <td>1</td>\n",
              "      <td>1</td>\n",
              "      <td>1</td>\n",
              "    </tr>\n",
              "    <tr>\n",
              "      <th>M</th>\n",
              "      <td>3</td>\n",
              "      <td>3</td>\n",
              "      <td>3</td>\n",
              "      <td>3</td>\n",
              "    </tr>\n",
              "    <tr>\n",
              "      <th rowspan=\"2\" valign=\"top\">Obesity</th>\n",
              "      <th>F</th>\n",
              "      <td>1</td>\n",
              "      <td>1</td>\n",
              "      <td>1</td>\n",
              "      <td>1</td>\n",
              "    </tr>\n",
              "    <tr>\n",
              "      <th>M</th>\n",
              "      <td>1</td>\n",
              "      <td>1</td>\n",
              "      <td>1</td>\n",
              "      <td>1</td>\n",
              "    </tr>\n",
              "    <tr>\n",
              "      <th>Overweight</th>\n",
              "      <th>F</th>\n",
              "      <td>1</td>\n",
              "      <td>1</td>\n",
              "      <td>1</td>\n",
              "      <td>1</td>\n",
              "    </tr>\n",
              "    <tr>\n",
              "      <th rowspan=\"2\" valign=\"top\">Underweight</th>\n",
              "      <th>F</th>\n",
              "      <td>1</td>\n",
              "      <td>1</td>\n",
              "      <td>1</td>\n",
              "      <td>1</td>\n",
              "    </tr>\n",
              "    <tr>\n",
              "      <th>M</th>\n",
              "      <td>2</td>\n",
              "      <td>2</td>\n",
              "      <td>2</td>\n",
              "      <td>2</td>\n",
              "    </tr>\n",
              "  </tbody>\n",
              "</table>\n",
              "</div>"
            ],
            "text/plain": [
              "                    EMPID  Age  Sales  Income\n",
              "BMI         Gender                           \n",
              "Normal      F           1    1      1       1\n",
              "            M           3    3      3       3\n",
              "Obesity     F           1    1      1       1\n",
              "            M           1    1      1       1\n",
              "Overweight  F           1    1      1       1\n",
              "Underweight F           1    1      1       1\n",
              "            M           2    2      2       2"
            ]
          },
          "metadata": {
            "tags": []
          },
          "execution_count": 40
        }
      ]
    },
    {
      "cell_type": "code",
      "metadata": {
        "id": "nc1VMgynaUks"
      },
      "source": [
        "var_sales = var_bmi_gender.Sales.sum()"
      ],
      "execution_count": null,
      "outputs": []
    },
    {
      "cell_type": "code",
      "metadata": {
        "id": "sAMVigvLavEt",
        "colab": {
          "base_uri": "https://localhost:8080/",
          "height": 168
        },
        "outputId": "0f1ce257-06a9-4e73-98b7-7144aa92ecc3"
      },
      "source": [
        "var_sales"
      ],
      "execution_count": null,
      "outputs": [
        {
          "output_type": "execute_result",
          "data": {
            "text/plain": [
              "BMI          Gender\n",
              "Normal       F         140\n",
              "             M         377\n",
              "Obesity      F         135\n",
              "             M         133\n",
              "Overweight   F         114\n",
              "Underweight  F         117\n",
              "             M         272\n",
              "Name: Sales, dtype: int64"
            ]
          },
          "metadata": {
            "tags": []
          },
          "execution_count": 42
        }
      ]
    },
    {
      "cell_type": "code",
      "metadata": {
        "id": "hMkEHKkhanFK",
        "colab": {
          "base_uri": "https://localhost:8080/",
          "height": 195
        },
        "outputId": "f7316c21-57cd-4808-d4eb-5f0e7a08d4e9"
      },
      "source": [
        "var_sales.unstack()"
      ],
      "execution_count": null,
      "outputs": [
        {
          "output_type": "execute_result",
          "data": {
            "text/html": [
              "<div>\n",
              "<style scoped>\n",
              "    .dataframe tbody tr th:only-of-type {\n",
              "        vertical-align: middle;\n",
              "    }\n",
              "\n",
              "    .dataframe tbody tr th {\n",
              "        vertical-align: top;\n",
              "    }\n",
              "\n",
              "    .dataframe thead th {\n",
              "        text-align: right;\n",
              "    }\n",
              "</style>\n",
              "<table border=\"1\" class=\"dataframe\">\n",
              "  <thead>\n",
              "    <tr style=\"text-align: right;\">\n",
              "      <th>Gender</th>\n",
              "      <th>F</th>\n",
              "      <th>M</th>\n",
              "    </tr>\n",
              "    <tr>\n",
              "      <th>BMI</th>\n",
              "      <th></th>\n",
              "      <th></th>\n",
              "    </tr>\n",
              "  </thead>\n",
              "  <tbody>\n",
              "    <tr>\n",
              "      <th>Normal</th>\n",
              "      <td>140.0</td>\n",
              "      <td>377.0</td>\n",
              "    </tr>\n",
              "    <tr>\n",
              "      <th>Obesity</th>\n",
              "      <td>135.0</td>\n",
              "      <td>133.0</td>\n",
              "    </tr>\n",
              "    <tr>\n",
              "      <th>Overweight</th>\n",
              "      <td>114.0</td>\n",
              "      <td>NaN</td>\n",
              "    </tr>\n",
              "    <tr>\n",
              "      <th>Underweight</th>\n",
              "      <td>117.0</td>\n",
              "      <td>272.0</td>\n",
              "    </tr>\n",
              "  </tbody>\n",
              "</table>\n",
              "</div>"
            ],
            "text/plain": [
              "Gender           F      M\n",
              "BMI                      \n",
              "Normal       140.0  377.0\n",
              "Obesity      135.0  133.0\n",
              "Overweight   114.0    NaN\n",
              "Underweight  117.0  272.0"
            ]
          },
          "metadata": {
            "tags": []
          },
          "execution_count": 43
        }
      ]
    },
    {
      "cell_type": "code",
      "metadata": {
        "id": "SiaTjntHar1q",
        "colab": {
          "base_uri": "https://localhost:8080/",
          "height": 350
        },
        "outputId": "fb836a9b-a508-472a-9a66-5960d5da20e7"
      },
      "source": [
        "var_sales.unstack().plot(kind='bar', stacked=True, color=['r', 'b'])"
      ],
      "execution_count": null,
      "outputs": [
        {
          "output_type": "execute_result",
          "data": {
            "text/plain": [
              "<matplotlib.axes._subplots.AxesSubplot at 0x7fcc5c126b00>"
            ]
          },
          "metadata": {
            "tags": []
          },
          "execution_count": 44
        },
        {
          "output_type": "display_data",
          "data": {
            "image/png": "[encoded data removed]",
            "text/plain": [
              "<Figure size 432x288 with 1 Axes>"
            ]
          },
          "metadata": {
            "tags": [],
            "needs_background": "light"
          }
        }
      ]
    },
    {
      "cell_type": "code",
      "metadata": {
        "id": "Eqshq63SbSAI"
      },
      "source": [
        "var_gender = df.groupby('Gender')"
      ],
      "execution_count": null,
      "outputs": []
    },
    {
      "cell_type": "code",
      "metadata": {
        "id": "Tt7JZmCfdNIr",
        "colab": {
          "base_uri": "https://localhost:8080/",
          "height": 136
        },
        "outputId": "5ee5dadf-8349-4e2c-c2c0-de93609edf6c"
      },
      "source": [
        "var_gender.count()"
      ],
      "execution_count": null,
      "outputs": [
        {
          "output_type": "execute_result",
          "data": {
            "text/html": [
              "<div>\n",
              "<style scoped>\n",
              "    .dataframe tbody tr th:only-of-type {\n",
              "        vertical-align: middle;\n",
              "    }\n",
              "\n",
              "    .dataframe tbody tr th {\n",
              "        vertical-align: top;\n",
              "    }\n",
              "\n",
              "    .dataframe thead th {\n",
              "        text-align: right;\n",
              "    }\n",
              "</style>\n",
              "<table border=\"1\" class=\"dataframe\">\n",
              "  <thead>\n",
              "    <tr style=\"text-align: right;\">\n",
              "      <th></th>\n",
              "      <th>EMPID</th>\n",
              "      <th>Age</th>\n",
              "      <th>Sales</th>\n",
              "      <th>BMI</th>\n",
              "      <th>Income</th>\n",
              "    </tr>\n",
              "    <tr>\n",
              "      <th>Gender</th>\n",
              "      <th></th>\n",
              "      <th></th>\n",
              "      <th></th>\n",
              "      <th></th>\n",
              "      <th></th>\n",
              "    </tr>\n",
              "  </thead>\n",
              "  <tbody>\n",
              "    <tr>\n",
              "      <th>F</th>\n",
              "      <td>4</td>\n",
              "      <td>4</td>\n",
              "      <td>4</td>\n",
              "      <td>4</td>\n",
              "      <td>4</td>\n",
              "    </tr>\n",
              "    <tr>\n",
              "      <th>M</th>\n",
              "      <td>6</td>\n",
              "      <td>6</td>\n",
              "      <td>6</td>\n",
              "      <td>6</td>\n",
              "      <td>6</td>\n",
              "    </tr>\n",
              "  </tbody>\n",
              "</table>\n",
              "</div>"
            ],
            "text/plain": [
              "        EMPID  Age  Sales  BMI  Income\n",
              "Gender                                \n",
              "F           4    4      4    4       4\n",
              "M           6    6      6    6       6"
            ]
          },
          "metadata": {
            "tags": []
          },
          "execution_count": 46
        }
      ]
    },
    {
      "cell_type": "code",
      "metadata": {
        "id": "deuX_YojdOdK",
        "colab": {
          "base_uri": "https://localhost:8080/",
          "height": 136
        },
        "outputId": "e1ffdc46-1127-4106-e96d-5b7b1eee7ecb"
      },
      "source": [
        "var_gender.sum()"
      ],
      "execution_count": null,
      "outputs": [
        {
          "output_type": "execute_result",
          "data": {
            "text/html": [
              "<div>\n",
              "<style scoped>\n",
              "    .dataframe tbody tr th:only-of-type {\n",
              "        vertical-align: middle;\n",
              "    }\n",
              "\n",
              "    .dataframe tbody tr th {\n",
              "        vertical-align: top;\n",
              "    }\n",
              "\n",
              "    .dataframe thead th {\n",
              "        text-align: right;\n",
              "    }\n",
              "</style>\n",
              "<table border=\"1\" class=\"dataframe\">\n",
              "  <thead>\n",
              "    <tr style=\"text-align: right;\">\n",
              "      <th></th>\n",
              "      <th>Age</th>\n",
              "      <th>Sales</th>\n",
              "      <th>Income</th>\n",
              "    </tr>\n",
              "    <tr>\n",
              "      <th>Gender</th>\n",
              "      <th></th>\n",
              "      <th></th>\n",
              "      <th></th>\n",
              "    </tr>\n",
              "  </thead>\n",
              "  <tbody>\n",
              "    <tr>\n",
              "      <th>F</th>\n",
              "      <td>147</td>\n",
              "      <td>506</td>\n",
              "      <td>922</td>\n",
              "    </tr>\n",
              "    <tr>\n",
              "      <th>M</th>\n",
              "      <td>200</td>\n",
              "      <td>782</td>\n",
              "      <td>900</td>\n",
              "    </tr>\n",
              "  </tbody>\n",
              "</table>\n",
              "</div>"
            ],
            "text/plain": [
              "        Age  Sales  Income\n",
              "Gender                    \n",
              "F       147    506     922\n",
              "M       200    782     900"
            ]
          },
          "metadata": {
            "tags": []
          },
          "execution_count": 47
        }
      ]
    },
    {
      "cell_type": "code",
      "metadata": {
        "id": "wPyyrsSOdYvB",
        "colab": {
          "base_uri": "https://localhost:8080/",
          "height": 151
        },
        "outputId": "dc8a0a3c-b4e8-4f3b-d7d7-0310732cf941"
      },
      "source": [
        "var_gender.sum().stack()"
      ],
      "execution_count": null,
      "outputs": [
        {
          "output_type": "execute_result",
          "data": {
            "text/plain": [
              "Gender        \n",
              "F       Age       147\n",
              "        Sales     506\n",
              "        Income    922\n",
              "M       Age       200\n",
              "        Sales     782\n",
              "        Income    900\n",
              "dtype: int64"
            ]
          },
          "metadata": {
            "tags": []
          },
          "execution_count": 48
        }
      ]
    },
    {
      "cell_type": "code",
      "metadata": {
        "id": "Un9eMIADdeI9",
        "colab": {
          "base_uri": "https://localhost:8080/",
          "height": 136
        },
        "outputId": "cf018f8e-067d-4c33-a3f1-a5184a3d15a7"
      },
      "source": [
        "var_gender.sum().stack().unstack()"
      ],
      "execution_count": null,
      "outputs": [
        {
          "output_type": "execute_result",
          "data": {
            "text/html": [
              "<div>\n",
              "<style scoped>\n",
              "    .dataframe tbody tr th:only-of-type {\n",
              "        vertical-align: middle;\n",
              "    }\n",
              "\n",
              "    .dataframe tbody tr th {\n",
              "        vertical-align: top;\n",
              "    }\n",
              "\n",
              "    .dataframe thead th {\n",
              "        text-align: right;\n",
              "    }\n",
              "</style>\n",
              "<table border=\"1\" class=\"dataframe\">\n",
              "  <thead>\n",
              "    <tr style=\"text-align: right;\">\n",
              "      <th></th>\n",
              "      <th>Age</th>\n",
              "      <th>Sales</th>\n",
              "      <th>Income</th>\n",
              "    </tr>\n",
              "    <tr>\n",
              "      <th>Gender</th>\n",
              "      <th></th>\n",
              "      <th></th>\n",
              "      <th></th>\n",
              "    </tr>\n",
              "  </thead>\n",
              "  <tbody>\n",
              "    <tr>\n",
              "      <th>F</th>\n",
              "      <td>147</td>\n",
              "      <td>506</td>\n",
              "      <td>922</td>\n",
              "    </tr>\n",
              "    <tr>\n",
              "      <th>M</th>\n",
              "      <td>200</td>\n",
              "      <td>782</td>\n",
              "      <td>900</td>\n",
              "    </tr>\n",
              "  </tbody>\n",
              "</table>\n",
              "</div>"
            ],
            "text/plain": [
              "        Age  Sales  Income\n",
              "Gender                    \n",
              "F       147    506     922\n",
              "M       200    782     900"
            ]
          },
          "metadata": {
            "tags": []
          },
          "execution_count": 49
        }
      ]
    },
    {
      "cell_type": "code",
      "metadata": {
        "id": "-mhMOsZDZHuG"
      },
      "source": [
        "var_sum = var_gender.sum().stack()"
      ],
      "execution_count": null,
      "outputs": []
    },
    {
      "cell_type": "code",
      "metadata": {
        "id": "C0pAngBkd49h"
      },
      "source": [
        "var_temp = var_sum.unstack()"
      ],
      "execution_count": null,
      "outputs": []
    },
    {
      "cell_type": "code",
      "metadata": {
        "id": "yYKMzVz1d9ml",
        "colab": {
          "base_uri": "https://localhost:8080/",
          "height": 34
        },
        "outputId": "96c741f2-91af-4eb7-8815-4df6f77f4cba"
      },
      "source": [
        "type(var_temp)"
      ],
      "execution_count": null,
      "outputs": [
        {
          "output_type": "execute_result",
          "data": {
            "text/plain": [
              "pandas.core.frame.DataFrame"
            ]
          },
          "metadata": {
            "tags": []
          },
          "execution_count": 52
        }
      ]
    },
    {
      "cell_type": "code",
      "metadata": {
        "id": "VzTH-hTwd_0g"
      },
      "source": [
        "x_list = var_temp.Sales"
      ],
      "execution_count": null,
      "outputs": []
    },
    {
      "cell_type": "code",
      "metadata": {
        "id": "ZXBpSIXEeJm7",
        "colab": {
          "base_uri": "https://localhost:8080/",
          "height": 84
        },
        "outputId": "b29a377b-a1fb-4b87-a4ab-4c0b60758380"
      },
      "source": [
        "x_list"
      ],
      "execution_count": null,
      "outputs": [
        {
          "output_type": "execute_result",
          "data": {
            "text/plain": [
              "Gender\n",
              "F    506\n",
              "M    782\n",
              "Name: Sales, dtype: int64"
            ]
          },
          "metadata": {
            "tags": []
          },
          "execution_count": 54
        }
      ]
    },
    {
      "cell_type": "code",
      "metadata": {
        "id": "jA4YBcMDeLdu"
      },
      "source": [
        "label_list = var_temp.index"
      ],
      "execution_count": null,
      "outputs": []
    },
    {
      "cell_type": "code",
      "metadata": {
        "id": "KW_ho4TpeRao",
        "colab": {
          "base_uri": "https://localhost:8080/",
          "height": 34
        },
        "outputId": "2415eee6-0ef7-4681-d8d6-c8ab42d8bfcd"
      },
      "source": [
        "label_list"
      ],
      "execution_count": null,
      "outputs": [
        {
          "output_type": "execute_result",
          "data": {
            "text/plain": [
              "Index(['F', 'M'], dtype='object', name='Gender')"
            ]
          },
          "metadata": {
            "tags": []
          },
          "execution_count": 56
        }
      ]
    },
    {
      "cell_type": "code",
      "metadata": {
        "id": "CYlzYNkyeTtJ",
        "colab": {
          "base_uri": "https://localhost:8080/",
          "height": 264
        },
        "outputId": "3279f068-64bc-47e9-e6f3-c5db4c24a019"
      },
      "source": [
        "plt.pie(x_list, labels=label_list, autopct='%1.1f%%')\n",
        "plt.title('Pastafarianism expenses')\n",
        "plt.show()"
      ],
      "execution_count": null,
      "outputs": [
        {
          "output_type": "display_data",
          "data": {
            "image/png": "[encoded data removed]",
            "text/plain": [
              "<Figure size 432x288 with 1 Axes>"
            ]
          },
          "metadata": {
            "tags": []
          }
        }
      ]
    },
    {
      "cell_type": "code",
      "metadata": {
        "id": "T9dG-KtnezpN"
      },
      "source": [],
      "execution_count": null,
      "outputs": []
    },
    {
      "cell_type": "code",
      "metadata": {
        "id": "7Fm3x9ojFfii"
      },
      "source": [
        "ls"
      ],
      "execution_count": null,
      "outputs": []
    },
    {
      "cell_type": "code",
      "metadata": {
        "id": "T1wpFVWSFiI_"
      },
      "source": [
        "df_demo = pd.read_csv(\"Demo_Dataframe.csv\", index_col=0)"
      ],
      "execution_count": null,
      "outputs": []
    },
    {
      "cell_type": "code",
      "metadata": {
        "id": "8WTF2VImF476"
      },
      "source": [
        "df_demo"
      ],
      "execution_count": null,
      "outputs": []
    },
    {
      "cell_type": "code",
      "metadata": {
        "id": "s6K5pArxF-RG"
      },
      "source": [],
      "execution_count": null,
      "outputs": []
    },
    {
      "cell_type": "markdown",
      "metadata": {
        "id": "l45G8b4X67VD"
      },
      "source": [
        "BMI and Gender these features are called Categorical features"
      ]
    },
    {
      "cell_type": "code",
      "metadata": {
        "id": "-E9Un2Dk67B6"
      },
      "source": [
        "df.info()"
      ],
      "execution_count": null,
      "outputs": []
    },
    {
      "cell_type": "code",
      "metadata": {
        "id": "AGfAnWBf7ak2"
      },
      "source": [
        "sales = df[\"Sales\"]"
      ],
      "execution_count": null,
      "outputs": []
    },
    {
      "cell_type": "code",
      "metadata": {
        "id": "_o8YSbJD8of4"
      },
      "source": [
        "sales_int = sales.map(int)"
      ],
      "execution_count": null,
      "outputs": []
    },
    {
      "cell_type": "code",
      "metadata": {
        "id": "D11ehl4e9CB3"
      },
      "source": [
        "sales"
      ],
      "execution_count": null,
      "outputs": []
    },
    {
      "cell_type": "code",
      "metadata": {
        "id": "YOOjXUgS9F_Q"
      },
      "source": [
        "sales.sum()"
      ],
      "execution_count": null,
      "outputs": []
    },
    {
      "cell_type": "code",
      "metadata": {
        "id": "jTM8EmeO88qm"
      },
      "source": [
        "sales_int"
      ],
      "execution_count": null,
      "outputs": []
    },
    {
      "cell_type": "code",
      "metadata": {
        "id": "MpVsArF09KiE"
      },
      "source": [
        "sales_int.sum()"
      ],
      "execution_count": null,
      "outputs": []
    },
    {
      "cell_type": "code",
      "metadata": {
        "id": "R4LuK0hf9ePU"
      },
      "source": [
        "age = df[\"Age\"]"
      ],
      "execution_count": null,
      "outputs": []
    },
    {
      "cell_type": "code",
      "metadata": {
        "id": "3agGMMtq9huL"
      },
      "source": [
        "age"
      ],
      "execution_count": null,
      "outputs": []
    },
    {
      "cell_type": "code",
      "metadata": {
        "id": "Qgz9QN_T-D6Q"
      },
      "source": [
        "df[\"Age_int\"] = age"
      ],
      "execution_count": null,
      "outputs": []
    },
    {
      "cell_type": "code",
      "metadata": {
        "id": "2dZfpGTv-JGX"
      },
      "source": [
        "df"
      ],
      "execution_count": null,
      "outputs": []
    },
    {
      "cell_type": "code",
      "metadata": {
        "id": "naRPKoYR-R6A"
      },
      "source": [
        "df[\"sales_int\"] = sales_int"
      ],
      "execution_count": null,
      "outputs": []
    },
    {
      "cell_type": "code",
      "metadata": {
        "id": "7gBhctRY-dJM"
      },
      "source": [
        "df"
      ],
      "execution_count": null,
      "outputs": []
    },
    {
      "cell_type": "code",
      "metadata": {
        "id": "bg0nwN7y-gDS"
      },
      "source": [
        "sales_groupby = df.groupby(\"sales_int\")"
      ],
      "execution_count": null,
      "outputs": []
    },
    {
      "cell_type": "code",
      "metadata": {
        "id": "Tj9-tM9N-rSb"
      },
      "source": [
        "sales_groupby.sum()"
      ],
      "execution_count": null,
      "outputs": []
    },
    {
      "cell_type": "code",
      "metadata": {
        "id": "jTVlJ7sE9shh"
      },
      "source": [
        "age.apply(lambda x : float(x))"
      ],
      "execution_count": null,
      "outputs": []
    },
    {
      "cell_type": "code",
      "metadata": {
        "id": "sDF_SIjA98lT"
      },
      "source": [],
      "execution_count": null,
      "outputs": []
    },
    {
      "cell_type": "code",
      "metadata": {
        "id": "bE03c6yl6K76"
      },
      "source": [
        "df.groupby([\"BMI\"]).mean()"
      ],
      "execution_count": null,
      "outputs": []
    },
    {
      "cell_type": "code",
      "metadata": {
        "id": "p4bzD8I4cL2C"
      },
      "source": [
        "#df.to_csv(\"First.csv\", index=False)"
      ],
      "execution_count": null,
      "outputs": []
    },
    {
      "cell_type": "code",
      "metadata": {
        "id": "PhAX-VQ2eNhF"
      },
      "source": [
        "#df = pd.read_csv(\"First.csv\", index_col=0)\n",
        "#df = pd.read_csv(\"First.csv\")"
      ],
      "execution_count": null,
      "outputs": []
    },
    {
      "cell_type": "code",
      "metadata": {
        "id": "ABwt2BB9cmZt"
      },
      "source": [
        "#df.to_excel(\"First.xlsx\", sheet_name=\"Sheet1\", index=False)"
      ],
      "execution_count": null,
      "outputs": []
    },
    {
      "cell_type": "code",
      "metadata": {
        "id": "GeI59IhvdKyc"
      },
      "source": [
        "df = pd.read_excel(\"First.xlsx\", sheet_name=\"Sheet1\")"
      ],
      "execution_count": null,
      "outputs": []
    },
    {
      "cell_type": "code",
      "metadata": {
        "id": "pwXFfx4QxnS6"
      },
      "source": [
        "df"
      ],
      "execution_count": null,
      "outputs": []
    },
    {
      "cell_type": "code",
      "metadata": {
        "id": "oqCGvO2-fu6s"
      },
      "source": [
        "fig = plt.figure()"
      ],
      "execution_count": null,
      "outputs": []
    },
    {
      "cell_type": "code",
      "metadata": {
        "id": "1jAkQanufzXJ"
      },
      "source": [
        "ax = fig.add_subplot(1,1,1)"
      ],
      "execution_count": null,
      "outputs": []
    },
    {
      "cell_type": "code",
      "metadata": {
        "id": "G1s3j3f-f003"
      },
      "source": [
        "ax.hist(df[\"Age\"], bins=7)"
      ],
      "execution_count": null,
      "outputs": []
    },
    {
      "cell_type": "code",
      "metadata": {
        "id": "V5kNGW7ugTog"
      },
      "source": [
        "plt.title(\"Age Distribution\")"
      ],
      "execution_count": null,
      "outputs": []
    },
    {
      "cell_type": "code",
      "metadata": {
        "id": "rur0BBAjgYb1"
      },
      "source": [
        "plt.xlabel(\"Age\")"
      ],
      "execution_count": null,
      "outputs": []
    },
    {
      "cell_type": "code",
      "metadata": {
        "id": "5WNxBgAjgbJ1"
      },
      "source": [
        "plt.ylabel(\"#Employees\")"
      ],
      "execution_count": null,
      "outputs": []
    },
    {
      "cell_type": "code",
      "metadata": {
        "id": "a2-tTcW_gezM"
      },
      "source": [
        "plt.show()"
      ],
      "execution_count": null,
      "outputs": []
    },
    {
      "cell_type": "code",
      "metadata": {
        "id": "Q4gJXu4-HJt7"
      },
      "source": [
        "df"
      ],
      "execution_count": null,
      "outputs": []
    },
    {
      "cell_type": "code",
      "metadata": {
        "id": "OApqqWDUgfuh"
      },
      "source": [
        "fig = plt.figure()\n",
        "\n",
        "ax = fig.add_subplot(1,1,1)\n",
        "\n",
        "ax.hist(df[\"sales_int\"], bins=7)\n",
        "\n",
        "plt.title(\"Age Distribution\")\n",
        "\n",
        "plt.xlabel(\"Age\")\n",
        "plt.ylabel(\"#Employees\")\n",
        "\n",
        "plt.show()"
      ],
      "execution_count": null,
      "outputs": []
    },
    {
      "cell_type": "code",
      "metadata": {
        "id": "HQrVtwJhhCOV"
      },
      "source": [
        "ls"
      ],
      "execution_count": null,
      "outputs": []
    },
    {
      "cell_type": "code",
      "metadata": {
        "id": "hkX4QWXbIA90"
      },
      "source": [],
      "execution_count": null,
      "outputs": []
    }
  ]
}